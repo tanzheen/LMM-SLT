{
 "cells": [
  {
   "cell_type": "code",
   "execution_count": 10,
   "metadata": {},
   "outputs": [
    {
     "name": "stderr",
     "output_type": "stream",
     "text": [
      "The argument `trust_remote_code` is to be used with Auto classes. It has no effect here and is ignored.\n",
      "Loading checkpoint shards: 100%|██████████| 2/2 [00:12<00:00,  6.20s/it]\n"
     ]
    }
   ],
   "source": [
    "# Load model directly\n",
    "from modelscope import Qwen2_5_VLForConditionalGeneration, Qwen2_5_VLProcessor\n",
    "\n",
    "processor = Qwen2_5_VLProcessor.from_pretrained(\"Qwen-2.5-VL\", trust_remote_code=True)\n",
    "model = Qwen2_5_VLForConditionalGeneration.from_pretrained(\"Qwen-2.5-VL\", trust_remote_code=True)"
   ]
  },
  {
   "cell_type": "code",
   "execution_count": 11,
   "metadata": {},
   "outputs": [
    {
     "name": "stdout",
     "output_type": "stream",
     "text": [
      "<|im_start|>system\n",
      "You are a helpful AI assistant that can understand and describe videos. Please provide clear and detailed descriptions of video content when asked.<|im_end|>\n",
      "\n"
     ]
    }
   ],
   "source": [
    "conversation = [\n",
    "    {\n",
    "        \"role\": \"system\",\n",
    "        \"content\": \"You are a helpful AI assistant that can understand and describe videos. Please provide clear and detailed descriptions of video content when asked.\"\n",
    "    },\n",
    "    \n",
    "]\n",
    "text_prompt = processor.apply_chat_template(conversation, add_generation_prompt=False)\n",
    "print(text_prompt)"
   ]
  },
  {
   "cell_type": "code",
   "execution_count": 12,
   "metadata": {},
   "outputs": [
    {
     "name": "stdout",
     "output_type": "stream",
     "text": [
      "<|im_start|>system\n",
      "You are a helpful assistant.<|im_end|>\n",
      "<|im_start|>user\n",
      "<|vision_start|><|video_pad|><|vision_end|>What happened in the video?<|im_end|>\n",
      "\n"
     ]
    }
   ],
   "source": [
    "conversation = [\n",
    "\n",
    "    {\n",
    "        \"role\": \"user\",\n",
    "        \"content\": [\n",
    "            {\"type\": \"video\", \"video\": \"/scratch2/tannicholas/data/videos/1.mp4\"},\n",
    "            {\"type\": \"text\", \"text\": \"What happened in the video?\"},\n",
    "        ],\n",
    "    },\n",
    "    \n",
    "]\n",
    "text_prompt = processor.apply_chat_template(conversation, add_generation_prompt=False)\n",
    "print(text_prompt)"
   ]
  },
  {
   "cell_type": "code",
   "execution_count": 13,
   "metadata": {},
   "outputs": [
    {
     "name": "stdout",
     "output_type": "stream",
     "text": [
      "<|im_start|>system\n",
      "You are a helpful AI assistant that can understand and describe videos. Please provide clear and detailed descriptions of video content when asked.<|im_end|>\n",
      "<|im_start|>user\n",
      "<|vision_start|><|video_pad|><|vision_end|>What happened in the video?<|im_end|>\n",
      "<|im_start|>assistant\n",
      "I'll describe what I observed in the video. Please share the video and I'll provide a detailed description.<|im_end|>\n",
      "\n"
     ]
    }
   ],
   "source": [
    "conversation = [\n",
    "    {\n",
    "        \"role\": \"system\",\n",
    "        \"content\": \"You are a helpful AI assistant that can understand and describe videos. Please provide clear and detailed descriptions of video content when asked.\"\n",
    "    },\n",
    "    {\n",
    "        \"role\": \"user\",\n",
    "        \"content\": [\n",
    "            {\"type\": \"video\", \"video\": \"/scratch2/tannicholas/data/videos/1.mp4\"},\n",
    "            {\"type\": \"text\", \"text\": \"What happened in the video?\"},\n",
    "        ],\n",
    "    },\n",
    "    {\n",
    "        \"role\": \"assistant\",\n",
    "        \"content\": \"I'll describe what I observed in the video. Please share the video and I'll provide a detailed description.\"\n",
    "    }\n",
    "]\n",
    "text_prompt = processor.apply_chat_template(conversation, add_generation_prompt=False)\n",
    "print(text_prompt)"
   ]
  },
  {
   "cell_type": "code",
   "execution_count": 14,
   "metadata": {},
   "outputs": [
    {
     "name": "stdout",
     "output_type": "stream",
     "text": [
      "tensor([[0., 0., 0.],\n",
      "        [0., 0., 0.]])\n"
     ]
    }
   ],
   "source": [
    "\n",
    "import torch\n",
    "\n",
    "\n",
    "\n",
    "input_tensor = torch.randn(2, 3)  # A random tensor of size 2x3\n",
    "\n",
    "filled_tensor = torch.full_like(input_tensor, 0)  # Creates a tensor with the same size as input_tensor, filled with 0s\n",
    "\n",
    "\n",
    "\n",
    "print(filled_tensor) \n"
   ]
  },
  {
   "cell_type": "code",
   "execution_count": 29,
   "metadata": {},
   "outputs": [],
   "source": [
    "from qwen_vl_utils import process_vision_info\n",
    "messages = [\n",
    "    {\n",
    "        \"role\": \"user\",\n",
    "        \"content\": [\n",
    "            {\n",
    "                \"type\": \"video\",\n",
    "                \"video\": \"../PHOENIX-2014-T-release-v3/PHOENIX-2014-T/features/fullFrame-210x260px/train/01April_2010_Thursday_heute-6694.mp4\",\n",
    "                \"fps\": 25\n",
    "            },\n",
    "            {\"type\": \"text\", \"text\": \"Describe this video.\"},\n",
    "        ],\n",
    "    }\n",
    "]\n",
    "\n",
    "# Preparation for inference\n",
    "text = processor.apply_chat_template(\n",
    "    messages, tokenize=False, add_generation_prompt=True\n",
    ")\n",
    "image_inputs, video_inputs = process_vision_info(messages)\n",
    "inputs = processor(\n",
    "    text=[text],\n",
    "    images=image_inputs,\n",
    "    videos=video_inputs,\n",
    "    padding=True,\n",
    "    return_tensors=\"pt\",\n",
    ")\n",
    "inputs = inputs.to(\"cuda\")"
   ]
  },
  {
   "cell_type": "code",
   "execution_count": 30,
   "metadata": {},
   "outputs": [
    {
     "name": "stdout",
     "output_type": "stream",
     "text": [
      "dict_keys(['input_ids', 'attention_mask', 'pixel_values_videos', 'video_grid_thw', 'second_per_grid_ts'])\n"
     ]
    }
   ],
   "source": [
    "print(inputs.keys())"
   ]
  },
  {
   "cell_type": "code",
   "execution_count": 31,
   "metadata": {},
   "outputs": [
    {
     "data": {
      "text/plain": [
       "tensor([[1, 1, 1,  ..., 1, 1, 1]], device='cuda:0')"
      ]
     },
     "execution_count": 31,
     "metadata": {},
     "output_type": "execute_result"
    }
   ],
   "source": [
    "inputs['attention_mask']"
   ]
  },
  {
   "cell_type": "code",
   "execution_count": 32,
   "metadata": {},
   "outputs": [
    {
     "name": "stderr",
     "output_type": "stream",
     "text": [
      "Loading checkpoint shards: 100%|██████████| 2/2 [00:04<00:00,  2.14s/it]\n"
     ]
    },
    {
     "name": "stdout",
     "output_type": "stream",
     "text": [
      "['A woman with shoulder-length brown hair is wearing a black blazer and a black shirt. She is standing in front of a plain background. She is speaking and using hand gestures to emphasize her points. She moves her hands up and down, and she also makes a gesture with her fingers.']\n"
     ]
    }
   ],
   "source": [
    "# default: Load the model on the available device(s)\n",
    "from transformers import Qwen2_5_VLForConditionalGeneration\n",
    "model = Qwen2_5_VLForConditionalGeneration.from_pretrained(\n",
    "    \"Qwen-2.5-VL\", torch_dtype=\"auto\", device_map=\"auto\"\n",
    ")\n",
    "model.eval()\n",
    "with torch.no_grad():\n",
    "    generated_ids = model.generate(**inputs, max_new_tokens=128)\n",
    "    generated_ids_trimmed = [\n",
    "    out_ids[len(in_ids) :] for in_ids, out_ids in zip(inputs.input_ids, generated_ids)\n",
    "]\n",
    "output_text = processor.batch_decode(\n",
    "    generated_ids_trimmed, skip_special_tokens=True, clean_up_tokenization_spaces=False\n",
    ")\n",
    "print(output_text)"
   ]
  },
  {
   "cell_type": "code",
   "execution_count": 12,
   "metadata": {},
   "outputs": [
    {
     "data": {
      "text/plain": [
       "torch.Size([48, 3, 364, 308])"
      ]
     },
     "execution_count": 12,
     "metadata": {},
     "output_type": "execute_result"
    }
   ],
   "source": [
    "video_input[0].shape"
   ]
  },
  {
   "cell_type": "code",
   "execution_count": 21,
   "metadata": {},
   "outputs": [
    {
     "data": {
      "text/plain": [
       "dict_keys(['input_ids', 'attention_mask', 'pixel_values_videos', 'video_grid_thw', 'second_per_grid_ts'])"
      ]
     },
     "execution_count": 21,
     "metadata": {},
     "output_type": "execute_result"
    }
   ],
   "source": [
    "inputs = processor(\n",
    "    videos = video_input,\n",
    "    text = text_prompt,\n",
    "    padding=True,\n",
    "    return_tensors=\"pt\",\n",
    ")\n",
    "inputs.keys()"
   ]
  },
  {
   "cell_type": "code",
   "execution_count": 22,
   "metadata": {},
   "outputs": [
    {
     "name": "stdout",
     "output_type": "stream",
     "text": [
      "torch.Size([13728, 1176])\n"
     ]
    }
   ],
   "source": [
    "print(inputs['pixel_values_videos'].shape)"
   ]
  },
  {
   "cell_type": "code",
   "execution_count": 20,
   "metadata": {},
   "outputs": [
    {
     "name": "stdout",
     "output_type": "stream",
     "text": [
      "tensor([[24, 26, 22]])\n"
     ]
    }
   ],
   "source": [
    "print(inputs['video_grid_thw'])"
   ]
  },
  {
   "cell_type": "code",
   "execution_count": null,
   "metadata": {},
   "outputs": [],
   "source": []
  }
 ],
 "metadata": {
  "kernelspec": {
   "display_name": "Python 3",
   "language": "python",
   "name": "python3"
  },
  "language_info": {
   "codemirror_mode": {
    "name": "ipython",
    "version": 3
   },
   "file_extension": ".py",
   "mimetype": "text/x-python",
   "name": "python",
   "nbconvert_exporter": "python",
   "pygments_lexer": "ipython3",
   "version": "3.11.6"
  }
 },
 "nbformat": 4,
 "nbformat_minor": 2
}
