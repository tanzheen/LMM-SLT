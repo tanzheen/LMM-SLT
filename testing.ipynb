{
 "cells": [
  {
   "cell_type": "code",
   "execution_count": 14,
   "metadata": {},
   "outputs": [],
   "source": [
    "from transformers import AutoProcessor\n",
    "processor = AutoProcessor.from_pretrained(\"Qwen-2.5-VL\")"
   ]
  },
  {
   "cell_type": "code",
   "execution_count": 15,
   "metadata": {},
   "outputs": [
    {
     "name": "stdout",
     "output_type": "stream",
     "text": [
      "<|im_start|>system\n",
      "You are a helpful AI assistant that can understand and describe videos. Please provide clear and detailed descriptions of video content when asked.<|im_end|>\n",
      "\n"
     ]
    }
   ],
   "source": [
    "conversation = [\n",
    "    {\n",
    "        \"role\": \"system\",\n",
    "        \"content\": \"You are a helpful AI assistant that can understand and describe videos. Please provide clear and detailed descriptions of video content when asked.\"\n",
    "    },\n",
    "    \n",
    "]\n",
    "text_prompt = processor.apply_chat_template(conversation, add_generation_prompt=False)\n",
    "print(text_prompt)"
   ]
  },
  {
   "cell_type": "code",
   "execution_count": 17,
   "metadata": {},
   "outputs": [
    {
     "name": "stdout",
     "output_type": "stream",
     "text": [
      "<|im_start|>system\n",
      "You are a helpful assistant.<|im_end|>\n",
      "<|im_start|>user\n",
      "<|vision_start|><|video_pad|><|vision_end|>What happened in the video?<|im_end|>\n",
      "\n"
     ]
    }
   ],
   "source": [
    "conversation = [\n",
    "\n",
    "    {\n",
    "        \"role\": \"user\",\n",
    "        \"content\": [\n",
    "            {\"type\": \"video\", \"video\": \"/scratch2/tannicholas/data/videos/1.mp4\"},\n",
    "            {\"type\": \"text\", \"text\": \"What happened in the video?\"},\n",
    "        ],\n",
    "    },\n",
    "    \n",
    "]\n",
    "text_prompt = processor.apply_chat_template(conversation, add_generation_prompt=False)\n",
    "print(text_prompt)"
   ]
  },
  {
   "cell_type": "code",
   "execution_count": 16,
   "metadata": {},
   "outputs": [
    {
     "name": "stdout",
     "output_type": "stream",
     "text": [
      "<|im_start|>system\n",
      "You are a helpful AI assistant that can understand and describe videos. Please provide clear and detailed descriptions of video content when asked.<|im_end|>\n",
      "<|im_start|>user\n",
      "<|vision_start|><|video_pad|><|vision_end|>What happened in the video?<|im_end|>\n",
      "<|im_start|>assistant\n",
      "I'll describe what I observed in the video. Please share the video and I'll provide a detailed description.<|im_end|>\n",
      "\n"
     ]
    }
   ],
   "source": [
    "conversation = [\n",
    "    {\n",
    "        \"role\": \"system\",\n",
    "        \"content\": \"You are a helpful AI assistant that can understand and describe videos. Please provide clear and detailed descriptions of video content when asked.\"\n",
    "    },\n",
    "    {\n",
    "        \"role\": \"user\",\n",
    "        \"content\": [\n",
    "            {\"type\": \"video\", \"video\": \"/scratch2/tannicholas/data/videos/1.mp4\"},\n",
    "            {\"type\": \"text\", \"text\": \"What happened in the video?\"},\n",
    "        ],\n",
    "    },\n",
    "    {\n",
    "        \"role\": \"assistant\",\n",
    "        \"content\": \"I'll describe what I observed in the video. Please share the video and I'll provide a detailed description.\"\n",
    "    }\n",
    "]\n",
    "text_prompt = processor.apply_chat_template(conversation, add_generation_prompt=False)\n",
    "print(text_prompt)"
   ]
  },
  {
   "cell_type": "code",
   "execution_count": 5,
   "metadata": {},
   "outputs": [
    {
     "name": "stdout",
     "output_type": "stream",
     "text": [
      "tensor([[0., 0., 0.],\n",
      "        [0., 0., 0.]])\n"
     ]
    }
   ],
   "source": [
    "\n",
    "import torch\n",
    "\n",
    "\n",
    "\n",
    "input_tensor = torch.randn(2, 3)  # A random tensor of size 2x3\n",
    "\n",
    "filled_tensor = torch.full_like(input_tensor, 0)  # Creates a tensor with the same size as input_tensor, filled with 0s\n",
    "\n",
    "\n",
    "\n",
    "print(filled_tensor) \n"
   ]
  },
  {
   "cell_type": "code",
   "execution_count": 6,
   "metadata": {},
   "outputs": [],
   "source": [
    "inputs = processor(\n",
    "    text = text_prompt,\n",
    "    padding=True,\n",
    "    return_tensors=\"pt\",\n",
    ")"
   ]
  },
  {
   "cell_type": "code",
   "execution_count": 7,
   "metadata": {},
   "outputs": [
    {
     "data": {
      "text/plain": [
       "dict_keys(['input_ids', 'attention_mask'])"
      ]
     },
     "execution_count": 7,
     "metadata": {},
     "output_type": "execute_result"
    }
   ],
   "source": [
    "inputs.keys()"
   ]
  },
  {
   "cell_type": "code",
   "execution_count": 8,
   "metadata": {},
   "outputs": [
    {
     "data": {
      "text/plain": [
       "tensor([[1, 1, 1, 1, 1, 1, 1, 1, 1, 1, 1, 1, 1, 1, 1, 1, 1, 1, 1, 1, 1, 1, 1, 1,\n",
       "         1, 1, 1, 1, 1, 1, 1, 1, 1, 1, 1, 1, 1, 1, 1, 1, 1, 1, 1, 1, 1, 1, 1, 1,\n",
       "         1, 1, 1, 1, 1, 1, 1, 1, 1, 1, 1, 1, 1, 1, 1, 1, 1, 1, 1, 1, 1, 1, 1, 1,\n",
       "         1, 1]])"
      ]
     },
     "execution_count": 8,
     "metadata": {},
     "output_type": "execute_result"
    }
   ],
   "source": [
    "inputs['attention_mask']"
   ]
  },
  {
   "cell_type": "code",
   "execution_count": 11,
   "metadata": {},
   "outputs": [],
   "source": [
    "from qwen_vl_utils.vision_process import process_vision_info\n",
    "conversation = [\n",
    "    {\n",
    "        \"role\": \"user\", \n",
    "        \"content\": [\n",
    "            {\n",
    "                \"type\": \"video\", \n",
    "                \"video\": \"../PHOENIX-2014-T-release-v3/PHOENIX-2014-T/features/fullFrame-210x260px/test/08December_2009_Tuesday_heute-4198.mp4\",\n",
    "\n",
    "\n",
    "                \"fps\": 25\n",
    "            }\n",
    "            ]\n",
    "        }\n",
    "    ]\n",
    "\n",
    "_, video_input, video_kwargs = process_vision_info(conversation, return_video_kwargs=True)"
   ]
  },
  {
   "cell_type": "code",
   "execution_count": 12,
   "metadata": {},
   "outputs": [
    {
     "data": {
      "text/plain": [
       "torch.Size([48, 3, 364, 308])"
      ]
     },
     "execution_count": 12,
     "metadata": {},
     "output_type": "execute_result"
    }
   ],
   "source": [
    "video_input[0].shape"
   ]
  },
  {
   "cell_type": "code",
   "execution_count": 21,
   "metadata": {},
   "outputs": [
    {
     "data": {
      "text/plain": [
       "dict_keys(['input_ids', 'attention_mask', 'pixel_values_videos', 'video_grid_thw', 'second_per_grid_ts'])"
      ]
     },
     "execution_count": 21,
     "metadata": {},
     "output_type": "execute_result"
    }
   ],
   "source": [
    "inputs = processor(\n",
    "    videos = video_input,\n",
    "    text = text_prompt,\n",
    "    padding=True,\n",
    "    return_tensors=\"pt\",\n",
    ")\n",
    "inputs.keys()"
   ]
  },
  {
   "cell_type": "code",
   "execution_count": 22,
   "metadata": {},
   "outputs": [
    {
     "name": "stdout",
     "output_type": "stream",
     "text": [
      "torch.Size([13728, 1176])\n"
     ]
    }
   ],
   "source": [
    "print(inputs['pixel_values_videos'].shape)"
   ]
  },
  {
   "cell_type": "code",
   "execution_count": 20,
   "metadata": {},
   "outputs": [
    {
     "name": "stdout",
     "output_type": "stream",
     "text": [
      "tensor([[24, 26, 22]])\n"
     ]
    }
   ],
   "source": [
    "print(inputs['video_grid_thw'])"
   ]
  },
  {
   "cell_type": "code",
   "execution_count": null,
   "metadata": {},
   "outputs": [],
   "source": []
  }
 ],
 "metadata": {
  "kernelspec": {
   "display_name": "Python 3",
   "language": "python",
   "name": "python3"
  },
  "language_info": {
   "codemirror_mode": {
    "name": "ipython",
    "version": 3
   },
   "file_extension": ".py",
   "mimetype": "text/x-python",
   "name": "python",
   "nbconvert_exporter": "python",
   "pygments_lexer": "ipython3",
   "version": "3.11.6"
  }
 },
 "nbformat": 4,
 "nbformat_minor": 2
}
