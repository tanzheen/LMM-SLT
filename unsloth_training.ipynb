{
 "cells": [
  {
   "cell_type": "code",
   "execution_count": 2,
   "metadata": {},
   "outputs": [],
   "source": [
    "import torch \n",
    "torch.cuda.empty_cache()"
   ]
  },
  {
   "cell_type": "code",
   "execution_count": 3,
   "metadata": {},
   "outputs": [
    {
     "name": "stdout",
     "output_type": "stream",
     "text": [
      "🦥 Unsloth: Will patch your computer to enable 2x faster free finetuning.\n"
     ]
    },
    {
     "name": "stderr",
     "output_type": "stream",
     "text": [
      "c:\\Users\\User\\AppData\\Local\\Programs\\Python\\Python311\\Lib\\site-packages\\tqdm\\auto.py:21: TqdmWarning: IProgress not found. Please update jupyter and ipywidgets. See https://ipywidgets.readthedocs.io/en/stable/user_install.html\n",
      "  from .autonotebook import tqdm as notebook_tqdm\n"
     ]
    },
    {
     "name": "stdout",
     "output_type": "stream",
     "text": [
      "WARNING:tensorflow:From c:\\Users\\User\\AppData\\Local\\Programs\\Python\\Python311\\Lib\\site-packages\\tf_keras\\src\\losses.py:2976: The name tf.losses.sparse_softmax_cross_entropy is deprecated. Please use tf.compat.v1.losses.sparse_softmax_cross_entropy instead.\n",
      "\n",
      "🦥 Unsloth Zoo will now patch everything to make training faster!\n",
      "[2025-03-08 13:46:07,494] [INFO] [real_accelerator.py:222:get_accelerator] Setting ds_accelerator to cuda (auto detect)\n"
     ]
    },
    {
     "name": "stderr",
     "output_type": "stream",
     "text": [
      "W0308 13:46:08.234000 105080 site-packages\\torch\\distributed\\elastic\\multiprocessing\\redirects.py:29] NOTE: Redirects are currently not supported in Windows or MacOs.\n"
     ]
    },
    {
     "name": "stdout",
     "output_type": "stream",
     "text": [
      "True\n",
      "==((====))==  Unsloth 2025.3.8: Fast Qwen2_5_Vl vision patching. Transformers: 4.49.0.dev0.\n",
      "   \\\\   /|    GPU: NVIDIA GeForce RTX 3090. Max memory: 23.999 GB. Platform: Windows.\n",
      "O^O/ \\_/ \\    Torch: 2.6.0+cu124. CUDA: 8.6. CUDA Toolkit: 12.4. Triton: 3.2.0\n",
      "\\        /    Bfloat16 = TRUE. FA [Xformers = 0.0.29.post3. FA2 = False]\n",
      " \"-____-\"     Free Apache license: http://github.com/unslothai/unsloth\n",
      "Unsloth: Fast downloading is enabled - ignore downloading bars which are red colored!\n"
     ]
    },
    {
     "name": "stderr",
     "output_type": "stream",
     "text": [
      "c:\\Users\\User\\AppData\\Local\\Programs\\Python\\Python311\\Lib\\site-packages\\accelerate\\utils\\modeling.py:784: UserWarning: expandable_segments not supported on this platform (Triggered internally at C:\\actions-runner\\_work\\pytorch\\pytorch\\pytorch\\c10/cuda/CUDAAllocatorConfig.h:28.)\n",
      "  _ = torch.tensor([0], device=i)\n",
      "Using a slow image processor as `use_fast` is unset and a slow processor was saved with this model. `use_fast=True` will be the default behavior in v4.48, even if the model was saved with a slow processor. This will result in minor differences in outputs. You'll still be able to use a slow processor with `use_fast=False`.\n"
     ]
    }
   ],
   "source": [
    "from unsloth import FastVisionModel \n",
    "import torch \n",
    "print(torch.cuda.is_available())\n",
    "model, tokenizer = FastVisionModel.from_pretrained(\n",
    "    \"./unsloth/Qwen2.5-3B-4bit\",\n",
    "    load_in_4bit = True , # Use 4bit to reduce memory use. False for 16bit LoRA.\n",
    "    use_gradient_checkpointing = True , # True or \"unsloth\" for long context\n",
    ")"
   ]
  },
  {
   "cell_type": "code",
   "execution_count": 4,
   "metadata": {},
   "outputs": [],
   "source": [
    "model = FastVisionModel.get_peft_model(\n",
    "    model,\n",
    "    finetune_vision_layers     = True, # False if not finetuning vision layers\n",
    "    finetune_language_layers   = True, # False if not finetuning language layers\n",
    "    finetune_attention_modules = True, # False if not finetuning attention layers\n",
    "    finetune_mlp_modules       = True, # False if not finetuning MLP layers\n",
    "\n",
    "    r = 16,           # The larger, the higher the accuracy, but might overfit\n",
    "    lora_alpha = 16,  # Recommended alpha == r at least\n",
    "    lora_dropout = 0,\n",
    "    bias = \"none\",\n",
    "    random_state = 3407,\n",
    "    use_rslora = False,  # We support rank stabilized LoRA\n",
    "    loftq_config = None, # And LoftQ\n",
    "    # target_modules = \"all-linear\", # Optional now! Can specify a list if needed\n",
    ")"
   ]
  },
  {
   "cell_type": "markdown",
   "metadata": {},
   "source": [
    "### Load PHOENIX-2014-T dataset"
   ]
  },
  {
   "cell_type": "code",
   "execution_count": 5,
   "metadata": {},
   "outputs": [
    {
     "name": "stdout",
     "output_type": "stream",
     "text": [
      "key_lst length  7096\n",
      "key_lst length  519\n",
      "key_lst length  642\n",
      "Train set size: 7096\n",
      "Dev set size: 519\n",
      "Test set size: 642\n",
      "\n",
      "Example item from training set:\n",
      "{'video': 'E:/PHOENIX-2014-T-release-v3/PHOENIX-2014-T/features/fullFrame-210x260px/dev/27January_2013_Sunday_tagesschau-8836.mp4', 'video_name': 'dev/27January_2013_Sunday_tagesschau-8836', 'text': 'am oberrhein heute nacht bis plus drei grad sonst verbreitet werte um den gefrierpunkt oder leichter frost'}\n"
     ]
    }
   ],
   "source": [
    "from datasets import load_dataset\n",
    "from datasets import Dataset, DatasetDict, Video \n",
    "import os\n",
    "from pathlib import Path\n",
    "import pandas as pd\n",
    "import gzip \n",
    "import pickle\n",
    "\n",
    "def load_dataset_file(filename):\n",
    "    with gzip.open(filename, \"rb\") as f:\n",
    "        loaded_object = pickle.load(f)\n",
    "        return loaded_object\n",
    "\n",
    "\n",
    "\n",
    "   \n",
    "\n",
    "def create_phoenix14t_dataset(base_path,dataset_path ):\n",
    "    \"\"\"\n",
    "    Create a dataset from Phoenix14T videos\n",
    "    \n",
    "    Args:\n",
    "        base_path: Path to the PHOENIX-2014-T directory containing train/dev/test splits\n",
    "    \"\"\"\n",
    "    list_data_dict = load_dataset_file(dataset_path)\n",
    "    key_lst = [key for key, value in list_data_dict.items()]\n",
    "    print(\"key_lst length \",len(key_lst))\n",
    "    # Process each split (train, dev, test)\n",
    "    dataset = []\n",
    "    for key in key_lst:\n",
    "        sources = list_data_dict[key]\n",
    "        video_files = sources[\"name\"]+\".mp4\"\n",
    "        video_files = os.path.join(base_path,   video_files)\n",
    "        data = {\n",
    "            'video':  str(Path(video_files).resolve()).replace(\"\\\\\", \"/\"),\n",
    "            'video_name': sources[\"name\"], \n",
    "            'text': sources[\"text\"]\n",
    "        }\n",
    "        dataset.append(data)\n",
    "    # Convert to DataFrame first (easier to handle)\n",
    "    df = pd.DataFrame(dataset)\n",
    "    \n",
    "    # Convert DataFrame to Dataset\n",
    "    dataset = Dataset.from_pandas(df)\n",
    "    return dataset\n",
    "\n",
    "\n",
    "base_path = \"../PHOENIX-2014-T-release-v3/PHOENIX-2014-T/features/fullFrame-210x260px\"\n",
    "\n",
    "train_dataset = create_phoenix14t_dataset(base_path,\"data\\Phonexi-2014T\\labels.train\")\n",
    "dev_dataset = create_phoenix14t_dataset(base_path,\"data/Phonexi-2014T/labels.dev\")\n",
    "test_dataset = create_phoenix14t_dataset(base_path,\"data/Phonexi-2014T/labels.test\")\n",
    "\n",
    "\n",
    "\n",
    "# Print some information about the dataset\n",
    "print(f\"Train set size: {len(train_dataset)}\")\n",
    "print(f\"Dev set size: {len(dev_dataset)}\")\n",
    "print(f\"Test set size: {len(test_dataset)}\")\n",
    "\n",
    "# Example of accessing a single item\n",
    "print(\"\\nExample item from training set:\")\n",
    "print(dev_dataset[-1])\n",
    "sample = dev_dataset[-1]"
   ]
  },
  {
   "cell_type": "code",
   "execution_count": 6,
   "metadata": {},
   "outputs": [],
   "source": [
    "from unsloth_zoo.vision_utils import get_padding_tokens_ids, _get_dtype, process_vision_info\n",
    "\n",
    "user_instruction = \"Translate the sign language video to German.\"\n",
    "system_instruction = \"You are a professional German sign language translator.\"\n",
    "from decord import VideoReader\n",
    "def convert_to_conversation(sample):\n",
    " \n",
    "\n",
    "    conversation = [\n",
    "        { \"role\": \"system\",\n",
    "            \"content\": [\n",
    "                {\"type\": \"text\", \"text\": system_instruction}\n",
    "            ]\n",
    "        },\n",
    "        { \"role\": \"user\",\n",
    "            \"content\": [\n",
    "                {\"type\": \"text\",  \"text\": user_instruction},\n",
    "                {\"type\": \"video\", \"video\":sample[\"video\"] }\n",
    "            ]\n",
    "        },\n",
    "        { \"role\": \"assistant\",\n",
    "        \n",
    "            \"content\": [\n",
    "                {\"type\": \"text\", \"text\": sample[\"text\"]}\n",
    "            ]\n",
    "        },\n",
    "    ]\n",
    "\n",
    "    return conversation\n",
    "\n",
    "class SignDataCollator: \n",
    "    __slots__ = (\"padding_token_ids\", \"dtype\", \"ignore_index\", \"processor\", \"formatting_func\")\n",
    "\n",
    "    def __init__(self, model, processor,  ignore_index=-100):\n",
    "        self.padding_token_ids = get_padding_tokens_ids(processor)\n",
    "        self.dtype = _get_dtype(\n",
    "            model.config.torch_dtype\n",
    "            if hasattr(model.config, \"torch_dtype\")\n",
    "            else model.get_input_embeddings().weight.dtype\n",
    "        )\n",
    "        self.ignore_index = ignore_index\n",
    "        self.processor = processor\n",
    "    \n",
    "    def __call__(self, examples): \n",
    "        texts = [] \n",
    "        videos = [] \n",
    "\n",
    "        for example in examples: \n",
    "            messages = convert_to_conversation(example)\n",
    "            message= self.processor.apply_chat_template(\n",
    "                messages,\n",
    "                tokenize = False,\n",
    "                add_generation_prompt = False,\n",
    "            )\n",
    "            image, video = process_vision_info(messages)\n",
    "            texts.append(message)\n",
    "            videos.append(video)\n",
    "\n",
    "        # Tokenize the texts and process the images\n",
    "        batch = self.processor(\n",
    "            text    = texts,\n",
    "            videos  = videos,\n",
    "            padding = True,\n",
    "            # [TODO] Truncating to max_seq_length does NOT work for VLMs\n",
    "            # truncation = True,\n",
    "            return_tensors = \"pt\",\n",
    "        )\n",
    "\n",
    "        batch.pop(\"token_type_ids\", None)\n",
    "        # Pixtral accepts multiple images, so we have to cast it individually\n",
    "        pixel_values = batch[\"pixel_values_videos\"]\n",
    "        if type(pixel_values) is list:\n",
    "            for j, pixel_value_j in enumerate(pixel_values):\n",
    "                if type(pixel_value_j) is list:\n",
    "                    for k, pixel_value_k in enumerate(pixel_value_j):\n",
    "                        pixel_value_j[k] = pixel_value_k.to(self.dtype)\n",
    "                else:\n",
    "                    pixel_values[j] = pixel_value_j.to(self.dtype)\n",
    "            pass\n",
    "            batch[\"pixel_values_videos\"] = pixel_values\n",
    "        else:\n",
    "            batch[\"pixel_values_videos\"] = batch[\"pixel_values_videos\"].to(self.dtype)\n",
    "        pass\n",
    "\n",
    "        # Mask image tokens and pad tokens\n",
    "        labels = batch[\"input_ids\"].clone()\n",
    "        labels[torch.isin(labels, self.padding_token_ids)] = self.ignore_index\n",
    "        batch[\"labels\"] = labels\n",
    "        return batch\n"
   ]
  },
  {
   "cell_type": "markdown",
   "metadata": {},
   "source": [
    "### Testing inference "
   ]
  },
  {
   "cell_type": "code",
   "execution_count": 7,
   "metadata": {},
   "outputs": [
    {
     "name": "stdout",
     "output_type": "stream",
     "text": [
      "{'video': 'E:/PHOENIX-2014-T-release-v3/PHOENIX-2014-T/features/fullFrame-210x260px/train/27January_2013_Sunday_tagesschau-8842.mp4', 'video_name': 'train/27January_2013_Sunday_tagesschau-8842', 'text': 'es bleibt windig'}\n"
     ]
    },
    {
     "name": "stderr",
     "output_type": "stream",
     "text": [
      "qwen-vl-utils using decord to read video.\n"
     ]
    },
    {
     "name": "stdout",
     "output_type": "stream",
     "text": [
      "Es bleibt windig.<|im_end|>\n"
     ]
    }
   ],
   "source": [
    "import torch \n",
    "from qwen_vl_utils import process_vision_info\n",
    "torch.cuda.empty_cache()\n",
    "FastVisionModel.for_inference(model) # Enable for inference!\n",
    "\n",
    "print(train_dataset[-1])\n",
    "messages = convert_to_conversation(train_dataset[-1])\n",
    "# Preparation for inference\n",
    "text = tokenizer.apply_chat_template(\n",
    "    messages, tokenize=False, add_generation_prompt=True\n",
    ")\n",
    "image_inputs, video_inputs = process_vision_info(messages)\n",
    "inputs = tokenizer(\n",
    "    text = [text],\n",
    "    videos = [video_inputs],\n",
    "    add_special_tokens = False,\n",
    "    return_tensors = \"pt\",\n",
    ").to(\"cuda\")\n",
    "\n",
    "from transformers import TextStreamer\n",
    "text_streamer = TextStreamer(tokenizer, skip_prompt = True)\n",
    "outputs = model.generate(**inputs, streamer = text_streamer, max_new_tokens = 128,\n",
    "                   use_cache = True, temperature = 1.5, min_p = 0.1)"
   ]
  },
  {
   "cell_type": "code",
   "execution_count": 8,
   "metadata": {},
   "outputs": [],
   "source": [
    "from unsloth import is_bf16_supported\n",
    "from unsloth.trainer import UnslothVisionDataCollator\n",
    "from trl import SFTTrainer, SFTConfig\n",
    "\n",
    "FastVisionModel.for_training(model) # Enable for training!\n",
    "\n",
    "trainer = SFTTrainer(\n",
    "    model = model,\n",
    "    tokenizer = tokenizer,\n",
    "    data_collator = SignDataCollator(model, tokenizer), # Must use!\n",
    "    train_dataset = train_dataset,\n",
    "    args = SFTConfig(\n",
    "        per_device_train_batch_size = 2,\n",
    "        gradient_accumulation_steps = 4,\n",
    "        warmup_steps = 5,\n",
    "        #max_steps = 30,\n",
    "        num_train_epochs = 60 , # Set this instead of max_steps for full training runs\n",
    "        learning_rate = 2e-4,\n",
    "        fp16 = not is_bf16_supported(),\n",
    "        bf16 = is_bf16_supported(),\n",
    "        logging_steps = 1,\n",
    "        optim = \"adamw_8bit\",\n",
    "        weight_decay = 0.01,\n",
    "        lr_scheduler_type = \"linear\",\n",
    "        seed = 3407,\n",
    "        output_dir = \"outputs\",\n",
    "        report_to = \"none\",     # For Weights and Biases\n",
    "\n",
    "        # You MUST put the below items for vision finetuning:\n",
    "        remove_unused_columns = False,\n",
    "        dataset_text_field = \"\",\n",
    "        dataset_kwargs = {\"skip_prepare_dataset\": True},\n",
    "        dataset_num_proc = 4,\n",
    "        max_seq_length = 2048,\n",
    "    ), \n",
    ")"
   ]
  },
  {
   "cell_type": "code",
   "execution_count": null,
   "metadata": {},
   "outputs": [
    {
     "name": "stderr",
     "output_type": "stream",
     "text": [
      "==((====))==  Unsloth - 2x faster free finetuning | Num GPUs used = 1\n",
      "   \\\\   /|    Num examples = 7,096 | Num Epochs = 60 | Total steps = 53,220\n",
      "O^O/ \\_/ \\    Batch size per device = 2 | Gradient accumulation steps = 4\n",
      "\\        /    Data Parallel GPUs = 1 | Total batch size (2 x 4 x 1) = 8\n",
      " \"-____-\"     Trainable parameters = 41,084,928/2,093,459,456 (1.96% trained)\n"
     ]
    },
    {
     "data": {
      "text/html": [
       "\n",
       "    <div>\n",
       "      \n",
       "      <progress value='8' max='53220' style='width:300px; height:20px; vertical-align: middle;'></progress>\n",
       "      [    8/53220 01:08 < 169:13:45, 0.09 it/s, Epoch 0.01/60]\n",
       "    </div>\n",
       "    <table border=\"1\" class=\"dataframe\">\n",
       "  <thead>\n",
       " <tr style=\"text-align: left;\">\n",
       "      <th>Step</th>\n",
       "      <th>Training Loss</th>\n",
       "    </tr>\n",
       "  </thead>\n",
       "  <tbody>\n",
       "    <tr>\n",
       "      <td>1</td>\n",
       "      <td>5.090100</td>\n",
       "    </tr>\n",
       "    <tr>\n",
       "      <td>2</td>\n",
       "      <td>5.171300</td>\n",
       "    </tr>\n",
       "    <tr>\n",
       "      <td>3</td>\n",
       "      <td>5.129500</td>\n",
       "    </tr>\n",
       "    <tr>\n",
       "      <td>4</td>\n",
       "      <td>5.207900</td>\n",
       "    </tr>\n",
       "    <tr>\n",
       "      <td>5</td>\n",
       "      <td>4.860300</td>\n",
       "    </tr>\n",
       "    <tr>\n",
       "      <td>6</td>\n",
       "      <td>3.896700</td>\n",
       "    </tr>\n",
       "  </tbody>\n",
       "</table><p>"
      ],
      "text/plain": [
       "<IPython.core.display.HTML object>"
      ]
     },
     "metadata": {},
     "output_type": "display_data"
    }
   ],
   "source": [
    "trainer_stats = trainer.train()"
   ]
  },
  {
   "cell_type": "code",
   "execution_count": null,
   "metadata": {},
   "outputs": [],
   "source": []
  }
 ],
 "metadata": {
  "kernelspec": {
   "display_name": "Python 3",
   "language": "python",
   "name": "python3"
  },
  "language_info": {
   "codemirror_mode": {
    "name": "ipython",
    "version": 3
   },
   "file_extension": ".py",
   "mimetype": "text/x-python",
   "name": "python",
   "nbconvert_exporter": "python",
   "pygments_lexer": "ipython3",
   "version": "3.11.6"
  }
 },
 "nbformat": 4,
 "nbformat_minor": 2
}
