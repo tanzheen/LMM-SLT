{
 "cells": [
  {
   "cell_type": "code",
   "execution_count": 2,
   "metadata": {},
   "outputs": [
    {
     "name": "stdout",
     "output_type": "stream",
     "text": [
      "Allocated memory: 0.00 MB\n",
      "Cached memory: 0.00 MB\n"
     ]
    }
   ],
   "source": [
    "import torch \n",
    "torch.cuda.empty_cache()\n",
    "import unsloth \n",
    "# Helper function to check GPU memory usage\n",
    "def print_gpu_memory():\n",
    "    print(f\"Allocated memory: {torch.cuda.memory_allocated() :.2f} MB\")\n",
    "    print(f\"Cached memory: {torch.cuda.memory_reserved() :.2f} MB\")\n",
    "print_gpu_memory()"
   ]
  },
  {
   "cell_type": "code",
   "execution_count": 3,
   "metadata": {},
   "outputs": [
    {
     "name": "stdout",
     "output_type": "stream",
     "text": [
      "==((====))==  Unsloth 2025.3.8: Fast Qwen2_5_Vl vision patching. Transformers: 4.49.0.dev0.\n",
      "   \\\\   /|    GPU: NVIDIA GeForce RTX 3090. Max memory: 23.999 GB. Platform: Windows.\n",
      "O^O/ \\_/ \\    Torch: 2.6.0+cu124. CUDA: 8.6. CUDA Toolkit: 12.4. Triton: 3.2.0\n",
      "\\        /    Bfloat16 = TRUE. FA [Xformers = 0.0.29.post3. FA2 = False]\n",
      " \"-____-\"     Free Apache license: http://github.com/unslothai/unsloth\n",
      "Unsloth: Fast downloading is enabled - ignore downloading bars which are red colored!\n"
     ]
    },
    {
     "name": "stderr",
     "output_type": "stream",
     "text": [
      "c:\\Users\\User\\AppData\\Local\\Programs\\Python\\Python311\\Lib\\site-packages\\accelerate\\utils\\modeling.py:784: UserWarning: expandable_segments not supported on this platform (Triggered internally at C:\\actions-runner\\_work\\pytorch\\pytorch\\pytorch\\c10/cuda/CUDAAllocatorConfig.h:28.)\n",
      "  _ = torch.tensor([0], device=i)\n",
      "Using a slow image processor as `use_fast` is unset and a slow processor was saved with this model. `use_fast=True` will be the default behavior in v4.48, even if the model was saved with a slow processor. This will result in minor differences in outputs. You'll still be able to use a slow processor with `use_fast=False`.\n"
     ]
    },
    {
     "name": "stdout",
     "output_type": "stream",
     "text": [
      "Allocated memory: 1917830656.00 MB\n",
      "Cached memory: 2147483648.00 MB\n",
      "Allocated memory: 1917830656.00 MB\n",
      "Cached memory: 2074083328.00 MB\n"
     ]
    }
   ],
   "source": [
    "from unsloth import FastVisionModel \n",
    "import torch \n",
    "import gc \n",
    "model , tokenizer = FastVisionModel.from_pretrained(\n",
    "    \"./unsloth/Qwen2.5-3B-4bit-pruned\",\n",
    "    load_in_4bit = True , # Use 4bit to reduce memory use. False for 16bit LoRA.\n",
    "    use_gradient_checkpointing = True  , # True or \"unsloth\" for long context\n",
    "    \n",
    "    )\n",
    "print_gpu_memory()\n",
    "del model \n",
    "gc.collect()\n",
    "torch.cuda.empty_cache()\n",
    "\n",
    "print_gpu_memory()\n"
   ]
  },
  {
   "cell_type": "code",
   "execution_count": 7,
   "metadata": {},
   "outputs": [
    {
     "name": "stdout",
     "output_type": "stream",
     "text": [
      "True\n",
      "==((====))==  Unsloth 2025.3.8: Fast Qwen2_5_Vl vision patching. Transformers: 4.49.0.dev0.\n",
      "   \\\\   /|    GPU: NVIDIA GeForce RTX 3090. Max memory: 23.999 GB. Platform: Windows.\n",
      "O^O/ \\_/ \\    Torch: 2.6.0+cu124. CUDA: 8.6. CUDA Toolkit: 12.4. Triton: 3.2.0\n",
      "\\        /    Bfloat16 = TRUE. FA [Xformers = 0.0.29.post3. FA2 = False]\n",
      " \"-____-\"     Free Apache license: http://github.com/unslothai/unsloth\n",
      "Unsloth: Fast downloading is enabled - ignore downloading bars which are red colored!\n"
     ]
    },
    {
     "data": {
      "text/plain": [
       "Embedding(151665, 2048, padding_idx=151654)"
      ]
     },
     "execution_count": 7,
     "metadata": {},
     "output_type": "execute_result"
    }
   ],
   "source": [
    "torch.cuda.empty_cache()\n",
    "print(torch.cuda.is_available())\n",
    "model, _ = FastVisionModel.from_pretrained(\n",
    "    \"./unsloth/Qwen2.5-3B-4bit\",\n",
    "    load_in_4bit = True , # Use 4bit to reduce memory use. False for 16bit LoRA.\n",
    "    use_gradient_checkpointing = True  , # True or \"unsloth\" for long context\n",
    "    \n",
    "    )\n",
    "gc.collect()\n",
    "torch.cuda.empty_cache()\n",
    "model.resize_token_embeddings(len(tokenizer.tokenizer.vocab))"
   ]
  },
  {
   "cell_type": "code",
   "execution_count": 3,
   "metadata": {},
   "outputs": [],
   "source": [
    "model = FastVisionModel.get_peft_model(\n",
    "    model,\n",
    "    finetune_vision_layers     = True, # False if not finetuning vision layers\n",
    "    finetune_language_layers   = True, # False if not finetuning language layers\n",
    "    finetune_attention_modules = True, # False if not finetuning attention layers\n",
    "    finetune_mlp_modules       = True, # False if not finetuning MLP layers\n",
    "\n",
    "    r = 16,           # The larger, the higher the accuracy, but might overfit\n",
    "    lora_alpha = 16,  # Recommended alpha == r at least\n",
    "    lora_dropout = 0,\n",
    "    bias = \"none\",\n",
    "    random_state = 3407,\n",
    "    use_rslora = False,  # We support rank stabilized LoRA\n",
    "    loftq_config = None, # And LoftQ\n",
    "    # target_modules = \"all-linear\", # Optional now! Can specify a list if needed\n",
    ")"
   ]
  },
  {
   "cell_type": "markdown",
   "metadata": {},
   "source": [
    "### Load PHOENIX-2014-T dataset"
   ]
  },
  {
   "cell_type": "code",
   "execution_count": 4,
   "metadata": {},
   "outputs": [
    {
     "name": "stdout",
     "output_type": "stream",
     "text": [
      "key_lst length  7096\n",
      "key_lst length  519\n",
      "key_lst length  642\n",
      "Train set size: 7096\n",
      "Dev set size: 519\n",
      "Test set size: 642\n",
      "\n",
      "Example item from training set:\n",
      "{'video': 'E:/PHOENIX-2014-T-release-v3/PHOENIX-2014-T/features/fullFrame-210x260px/dev/27January_2013_Sunday_tagesschau-8836.mp4', 'video_name': 'dev/27January_2013_Sunday_tagesschau-8836', 'text': 'am oberrhein heute nacht bis plus drei grad sonst verbreitet werte um den gefrierpunkt oder leichter frost'}\n"
     ]
    }
   ],
   "source": [
    "from datasets import load_dataset\n",
    "from datasets import Dataset, DatasetDict, Video \n",
    "import os\n",
    "from pathlib import Path\n",
    "import pandas as pd\n",
    "import gzip \n",
    "import pickle\n",
    "\n",
    "def load_dataset_file(filename):\n",
    "    with gzip.open(filename, \"rb\") as f:\n",
    "        loaded_object = pickle.load(f)\n",
    "        return loaded_object\n",
    "\n",
    "\n",
    "\n",
    "   \n",
    "\n",
    "def create_phoenix14t_dataset(base_path,dataset_path , eval = False ):\n",
    "    \"\"\"\n",
    "    Create a dataset from Phoenix14T videos\n",
    "    \n",
    "    Args:\n",
    "        base_path: Path to the PHOENIX-2014-T directory containing train/dev/test splits\n",
    "    \"\"\"\n",
    "    list_data_dict = load_dataset_file(dataset_path)\n",
    "    key_lst = [key for key, value in list_data_dict.items()]\n",
    "    print(\"key_lst length \",len(key_lst))\n",
    "    # Process each split (train, dev, test)\n",
    "    dataset = []\n",
    "    for key in key_lst:\n",
    "        sources = list_data_dict[key]\n",
    "        video_files = sources[\"name\"]+\".mp4\"\n",
    "        video_files = os.path.join(base_path,   video_files)\n",
    "        data = {\n",
    "            'video':  str(Path(video_files).resolve()).replace(\"\\\\\", \"/\"),\n",
    "            'video_name': sources[\"name\"], \n",
    "            'text': sources[\"text\"]\n",
    "        }\n",
    "        dataset.append(data)\n",
    "    # Convert to DataFrame first (easier to handle)\n",
    "    df = pd.DataFrame(dataset)\n",
    "    \n",
    "    # Convert DataFrame to Dataset\n",
    "    dataset = Dataset.from_pandas(df)\n",
    "    return dataset\n",
    "\n",
    "\n",
    "base_path = \"../PHOENIX-2014-T-release-v3/PHOENIX-2014-T/features/fullFrame-210x260px\"\n",
    "\n",
    "train_dataset = create_phoenix14t_dataset(base_path,\"data\\Phonexi-2014T\\labels.train\")\n",
    "dev_dataset = create_phoenix14t_dataset(base_path,\"data/Phonexi-2014T/labels.dev\")\n",
    "test_dataset = create_phoenix14t_dataset(base_path,\"data/Phonexi-2014T/labels.test\")\n",
    "\n",
    "\n",
    "\n",
    "# Print some information about the dataset\n",
    "print(f\"Train set size: {len(train_dataset)}\")\n",
    "print(f\"Dev set size: {len(dev_dataset)}\")\n",
    "print(f\"Test set size: {len(test_dataset)}\")\n",
    "\n",
    "# Example of accessing a single item\n",
    "print(\"\\nExample item from training set:\")\n",
    "print(dev_dataset[-1])\n",
    "sample = dev_dataset[-1]"
   ]
  },
  {
   "cell_type": "code",
   "execution_count": 5,
   "metadata": {},
   "outputs": [],
   "source": [
    "from unsloth_zoo.vision_utils import get_padding_tokens_ids, _get_dtype, process_vision_info\n",
    "\n",
    "user_instruction = \"Translate the sign language video to German. Pay attention to the facial features, the fingers and the motion of the hands.\"\n",
    "system_instruction = \"You are a professional German sign language translator.\"\n",
    "from decord import VideoReader\n",
    "def convert_to_conversation(sample, eval = False ):\n",
    " \n",
    "\n",
    "    conversation = [\n",
    "        { \"role\": \"system\",\n",
    "            \"content\": [\n",
    "                {\"type\": \"text\", \"text\": system_instruction}\n",
    "            ]\n",
    "        },\n",
    "        { \"role\": \"user\",\n",
    "            \"content\": [\n",
    "                {\"type\": \"text\",  \"text\": user_instruction},\n",
    "                {\"type\": \"video\", \"video\":sample[\"video\"] }\n",
    "            ]\n",
    "        },\n",
    "        { \"role\": \"assistant\",\n",
    "        \n",
    "            \"content\": [\n",
    "                {\"type\": \"text\", \"text\": sample[\"text\"]}\n",
    "            ]\n",
    "        },\n",
    "    ]\n",
    "    if eval: \n",
    "        conversation = [\n",
    "        { \"role\": \"system\",\n",
    "            \"content\": [\n",
    "                {\"type\": \"text\", \"text\": system_instruction}\n",
    "            ]\n",
    "        },\n",
    "        { \"role\": \"user\",\n",
    "            \"content\": [\n",
    "                {\"type\": \"text\",  \"text\": user_instruction},\n",
    "                {\"type\": \"video\", \"video\":sample[\"video\"] }\n",
    "            ]\n",
    "        }\n",
    "    ]\n",
    "\n",
    "    return conversation\n",
    "\n",
    "class SignDataCollator: \n",
    "    __slots__ = (\"padding_token_ids\", \"dtype\", \"ignore_index\", \"processor\", \"formatting_func\")\n",
    "\n",
    "    def __init__(self, model, processor,  ignore_index=-100):\n",
    "        self.padding_token_ids = get_padding_tokens_ids(processor)\n",
    "        self.dtype = _get_dtype(\n",
    "            model.config.torch_dtype\n",
    "            if hasattr(model.config, \"torch_dtype\")\n",
    "            else model.get_input_embeddings().weight.dtype\n",
    "        )\n",
    "        self.ignore_index = ignore_index\n",
    "        self.processor = processor\n",
    "    \n",
    "    \n",
    "    def __call__(self, examples): \n",
    "        texts = [] \n",
    "        videos = [] \n",
    "\n",
    "        for example in examples: \n",
    "            messages = convert_to_conversation(example, eval = False)\n",
    "            message= self.processor.apply_chat_template(\n",
    "                messages,\n",
    "                tokenize = False,\n",
    "                add_generation_prompt = False,\n",
    "            )\n",
    "            image, video = process_vision_info(messages)\n",
    "            texts.append(message)\n",
    "            videos.append(video)\n",
    "\n",
    "        # Tokenize the texts and process the images\n",
    "        batch = self.processor(\n",
    "            text    = texts,\n",
    "            videos  = videos,\n",
    "            padding = True,\n",
    "            # [TODO] Truncating to max_seq_length does NOT work for VLMs\n",
    "            # truncation = True,\n",
    "            return_tensors = \"pt\",\n",
    "        )\n",
    "\n",
    "        batch.pop(\"token_type_ids\", None)\n",
    "        # Pixtral accepts multiple images, so we have to cast it individually\n",
    "        pixel_values = batch[\"pixel_values_videos\"]\n",
    "        if type(pixel_values) is list:\n",
    "            for j, pixel_value_j in enumerate(pixel_values):\n",
    "                if type(pixel_value_j) is list:\n",
    "                    for k, pixel_value_k in enumerate(pixel_value_j):\n",
    "                        pixel_value_j[k] = pixel_value_k.to(self.dtype)\n",
    "                else:\n",
    "                    pixel_values[j] = pixel_value_j.to(self.dtype)\n",
    "            pass\n",
    "            batch[\"pixel_values_videos\"] = pixel_values\n",
    "        else:\n",
    "            batch[\"pixel_values_videos\"] = batch[\"pixel_values_videos\"].to(self.dtype)\n",
    "        pass\n",
    "\n",
    "        # Mask image tokens and pad tokens\n",
    "        labels = batch[\"input_ids\"].clone()\n",
    "        labels[torch.isin(labels, self.padding_token_ids)] = self.ignore_index\n",
    "        batch[\"labels\"] = labels\n",
    "        return batch\n"
   ]
  },
  {
   "cell_type": "markdown",
   "metadata": {},
   "source": [
    "### Testing inference "
   ]
  },
  {
   "cell_type": "code",
   "execution_count": 6,
   "metadata": {},
   "outputs": [
    {
     "name": "stdout",
     "output_type": "stream",
     "text": [
      "{'video': 'E:/PHOENIX-2014-T-release-v3/PHOENIX-2014-T/features/fullFrame-210x260px/train/27January_2013_Sunday_tagesschau-8842.mp4', 'video_name': 'train/27January_2013_Sunday_tagesschau-8842', 'text': 'es bleibt windig'}\n",
      "[{'role': 'system', 'content': [{'type': 'text', 'text': 'You are a professional German sign language translator.'}]}, {'role': 'user', 'content': [{'type': 'text', 'text': 'Translate the sign language video to German. Pay attention to the facial features, the fingers and the motion of the hands.'}, {'type': 'video', 'video': 'E:/PHOENIX-2014-T-release-v3/PHOENIX-2014-T/features/fullFrame-210x260px/train/27January_2013_Sunday_tagesschau-8842.mp4'}]}, {'role': 'assistant', 'content': [{'type': 'text', 'text': 'es bleibt windig'}]}]\n"
     ]
    },
    {
     "name": "stderr",
     "output_type": "stream",
     "text": [
      "qwen-vl-utils using decord to read video.\n"
     ]
    },
    {
     "name": "stdout",
     "output_type": "stream",
     "text": [
      "Es bleibt windig<|im_end|>\n"
     ]
    }
   ],
   "source": [
    "import torch \n",
    "from qwen_vl_utils import process_vision_info\n",
    "torch.cuda.empty_cache()\n",
    "FastVisionModel.for_inference(model) # Enable for inference!\n",
    "\n",
    "print(train_dataset[-1])\n",
    "messages = convert_to_conversation(train_dataset[-1], eval = False )\n",
    "# Preparation for inference\n",
    "print(messages)\n",
    "text = tokenizer.apply_chat_template(\n",
    "    messages, tokenize=False, add_generation_prompt=True\n",
    ")\n",
    "image_inputs, video_inputs = process_vision_info(messages)\n",
    "inputs = tokenizer(\n",
    "    text = [text],\n",
    "    videos = [video_inputs],\n",
    "    add_special_tokens = False,\n",
    "    return_tensors = \"pt\",\n",
    ").to(\"cuda\")\n",
    "\n",
    "from transformers import TextStreamer\n",
    "text_streamer = TextStreamer(tokenizer, skip_prompt = True)\n",
    "outputs = model.generate(**inputs, streamer = text_streamer, max_new_tokens = 128,\n",
    "                   use_cache = True, temperature = 1.5, min_p = 0.1)"
   ]
  },
  {
   "cell_type": "code",
   "execution_count": 7,
   "metadata": {},
   "outputs": [],
   "source": [
    "from trl import SFTConfig, SFTTrainer\n",
    "from unsloth import is_bf16_supported\n",
    "FastVisionModel.for_training(model) # Enable for training!\n",
    "\n",
    "trainer = SFTTrainer(\n",
    "    model = model,\n",
    "    tokenizer = tokenizer,\n",
    "    data_collator = SignDataCollator(model, tokenizer), # Must use!\n",
    "    train_dataset = train_dataset,\n",
    "    eval_dataset = dev_dataset,\n",
    "    args = SFTConfig(\n",
    "        per_device_train_batch_size = 1,\n",
    "        gradient_accumulation_steps = 8,\n",
    "        warmup_steps = 5,\n",
    "  \n",
    "        num_train_epochs = 5, # Set this instead of max_steps for full training runs    \n",
    "        eval_strategy=\"epoch\",\n",
    "        learning_rate = 2e-4,\n",
    "        fp16 = not is_bf16_supported(),\n",
    "        bf16 = is_bf16_supported(),\n",
    "        logging_steps = 1,\n",
    "        optim = \"adamw_8bit\",\n",
    "        weight_decay = 0.01,\n",
    "        lr_scheduler_type = \"linear\",\n",
    "        seed = 3407,\n",
    "        output_dir = \"outputs\",\n",
    "        report_to = \"none\",     # For Weights and Biases\n",
    "\n",
    "        # You MUST put the below items for vision finetuning:\n",
    "        remove_unused_columns = False,\n",
    "        dataset_text_field = \"\",\n",
    "        dataset_kwargs = {\"skip_prepare_dataset\": True},\n",
    "        dataset_num_proc = 4,\n",
    "        max_seq_length = 2048,\n",
    "    ),\n",
    ")"
   ]
  },
  {
   "cell_type": "code",
   "execution_count": 8,
   "metadata": {},
   "outputs": [
    {
     "name": "stderr",
     "output_type": "stream",
     "text": [
      "==((====))==  Unsloth - 2x faster free finetuning | Num GPUs used = 1\n",
      "   \\\\   /|    Num examples = 7,096 | Num Epochs = 5 | Total steps = 4,435\n",
      "O^O/ \\_/ \\    Batch size per device = 1 | Gradient accumulation steps = 8\n",
      "\\        /    Data Parallel GPUs = 1 | Total batch size (1 x 8 x 1) = 8\n",
      " \"-____-\"     Trainable parameters = 41,084,928/2,092,904,448 (1.96% trained)\n"
     ]
    },
    {
     "data": {
      "text/html": [
       "\n",
       "    <div>\n",
       "      \n",
       "      <progress value='336' max='4435' style='width:300px; height:20px; vertical-align: middle;'></progress>\n",
       "      [ 336/4435 7:44:46 < 95:03:58, 0.01 it/s, Epoch 0.38/5]\n",
       "    </div>\n",
       "    <table border=\"1\" class=\"dataframe\">\n",
       "  <thead>\n",
       " <tr style=\"text-align: left;\">\n",
       "      <th>Epoch</th>\n",
       "      <th>Training Loss</th>\n",
       "      <th>Validation Loss</th>\n",
       "    </tr>\n",
       "  </thead>\n",
       "  <tbody>\n",
       "  </tbody>\n",
       "</table><p>"
      ],
      "text/plain": [
       "<IPython.core.display.HTML object>"
      ]
     },
     "metadata": {},
     "output_type": "display_data"
    },
    {
     "ename": "KeyboardInterrupt",
     "evalue": "",
     "output_type": "error",
     "traceback": [
      "\u001b[1;31m---------------------------------------------------------------------------\u001b[0m",
      "\u001b[1;31mKeyboardInterrupt\u001b[0m                         Traceback (most recent call last)",
      "Cell \u001b[1;32mIn[8], line 1\u001b[0m\n\u001b[1;32m----> 1\u001b[0m trainer_stats \u001b[38;5;241m=\u001b[39m \u001b[43mtrainer\u001b[49m\u001b[38;5;241;43m.\u001b[39;49m\u001b[43mtrain\u001b[49m\u001b[43m(\u001b[49m\u001b[43m)\u001b[49m\n",
      "File \u001b[1;32mc:\\Users\\User\\AppData\\Local\\Programs\\Python\\Python311\\Lib\\site-packages\\transformers\\trainer.py:2241\u001b[0m, in \u001b[0;36mTrainer.train\u001b[1;34m(self, resume_from_checkpoint, trial, ignore_keys_for_eval, **kwargs)\u001b[0m\n\u001b[0;32m   2239\u001b[0m         hf_hub_utils\u001b[38;5;241m.\u001b[39menable_progress_bars()\n\u001b[0;32m   2240\u001b[0m \u001b[38;5;28;01melse\u001b[39;00m:\n\u001b[1;32m-> 2241\u001b[0m     \u001b[38;5;28;01mreturn\u001b[39;00m \u001b[43minner_training_loop\u001b[49m\u001b[43m(\u001b[49m\n\u001b[0;32m   2242\u001b[0m \u001b[43m        \u001b[49m\u001b[43margs\u001b[49m\u001b[38;5;241;43m=\u001b[39;49m\u001b[43margs\u001b[49m\u001b[43m,\u001b[49m\n\u001b[0;32m   2243\u001b[0m \u001b[43m        \u001b[49m\u001b[43mresume_from_checkpoint\u001b[49m\u001b[38;5;241;43m=\u001b[39;49m\u001b[43mresume_from_checkpoint\u001b[49m\u001b[43m,\u001b[49m\n\u001b[0;32m   2244\u001b[0m \u001b[43m        \u001b[49m\u001b[43mtrial\u001b[49m\u001b[38;5;241;43m=\u001b[39;49m\u001b[43mtrial\u001b[49m\u001b[43m,\u001b[49m\n\u001b[0;32m   2245\u001b[0m \u001b[43m        \u001b[49m\u001b[43mignore_keys_for_eval\u001b[49m\u001b[38;5;241;43m=\u001b[39;49m\u001b[43mignore_keys_for_eval\u001b[49m\u001b[43m,\u001b[49m\n\u001b[0;32m   2246\u001b[0m \u001b[43m    \u001b[49m\u001b[43m)\u001b[49m\n",
      "File \u001b[1;32m<string>:307\u001b[0m, in \u001b[0;36m_fast_inner_training_loop\u001b[1;34m(self, batch_size, args, resume_from_checkpoint, trial, ignore_keys_for_eval)\u001b[0m\n",
      "File \u001b[1;32m<string>:73\u001b[0m, in \u001b[0;36m_unsloth_training_step\u001b[1;34m(***failed resolving arguments***)\u001b[0m\n",
      "File \u001b[1;32mc:\\Users\\User\\AppData\\Local\\Programs\\Python\\Python311\\Lib\\site-packages\\accelerate\\accelerator.py:2329\u001b[0m, in \u001b[0;36mAccelerator.backward\u001b[1;34m(self, loss, **kwargs)\u001b[0m\n\u001b[0;32m   2327\u001b[0m     \u001b[38;5;28mself\u001b[39m\u001b[38;5;241m.\u001b[39mlomo_backward(loss, learning_rate)\n\u001b[0;32m   2328\u001b[0m \u001b[38;5;28;01melse\u001b[39;00m:\n\u001b[1;32m-> 2329\u001b[0m     \u001b[43mloss\u001b[49m\u001b[38;5;241;43m.\u001b[39;49m\u001b[43mbackward\u001b[49m\u001b[43m(\u001b[49m\u001b[38;5;241;43m*\u001b[39;49m\u001b[38;5;241;43m*\u001b[39;49m\u001b[43mkwargs\u001b[49m\u001b[43m)\u001b[49m\n",
      "File \u001b[1;32mc:\\Users\\User\\AppData\\Local\\Programs\\Python\\Python311\\Lib\\site-packages\\torch\\_tensor.py:626\u001b[0m, in \u001b[0;36mTensor.backward\u001b[1;34m(self, gradient, retain_graph, create_graph, inputs)\u001b[0m\n\u001b[0;32m    616\u001b[0m \u001b[38;5;28;01mif\u001b[39;00m has_torch_function_unary(\u001b[38;5;28mself\u001b[39m):\n\u001b[0;32m    617\u001b[0m     \u001b[38;5;28;01mreturn\u001b[39;00m handle_torch_function(\n\u001b[0;32m    618\u001b[0m         Tensor\u001b[38;5;241m.\u001b[39mbackward,\n\u001b[0;32m    619\u001b[0m         (\u001b[38;5;28mself\u001b[39m,),\n\u001b[1;32m   (...)\u001b[0m\n\u001b[0;32m    624\u001b[0m         inputs\u001b[38;5;241m=\u001b[39minputs,\n\u001b[0;32m    625\u001b[0m     )\n\u001b[1;32m--> 626\u001b[0m \u001b[43mtorch\u001b[49m\u001b[38;5;241;43m.\u001b[39;49m\u001b[43mautograd\u001b[49m\u001b[38;5;241;43m.\u001b[39;49m\u001b[43mbackward\u001b[49m\u001b[43m(\u001b[49m\n\u001b[0;32m    627\u001b[0m \u001b[43m    \u001b[49m\u001b[38;5;28;43mself\u001b[39;49m\u001b[43m,\u001b[49m\u001b[43m \u001b[49m\u001b[43mgradient\u001b[49m\u001b[43m,\u001b[49m\u001b[43m \u001b[49m\u001b[43mretain_graph\u001b[49m\u001b[43m,\u001b[49m\u001b[43m \u001b[49m\u001b[43mcreate_graph\u001b[49m\u001b[43m,\u001b[49m\u001b[43m \u001b[49m\u001b[43minputs\u001b[49m\u001b[38;5;241;43m=\u001b[39;49m\u001b[43minputs\u001b[49m\n\u001b[0;32m    628\u001b[0m \u001b[43m\u001b[49m\u001b[43m)\u001b[49m\n",
      "File \u001b[1;32mc:\\Users\\User\\AppData\\Local\\Programs\\Python\\Python311\\Lib\\site-packages\\torch\\autograd\\__init__.py:347\u001b[0m, in \u001b[0;36mbackward\u001b[1;34m(tensors, grad_tensors, retain_graph, create_graph, grad_variables, inputs)\u001b[0m\n\u001b[0;32m    342\u001b[0m     retain_graph \u001b[38;5;241m=\u001b[39m create_graph\n\u001b[0;32m    344\u001b[0m \u001b[38;5;66;03m# The reason we repeat the same comment below is that\u001b[39;00m\n\u001b[0;32m    345\u001b[0m \u001b[38;5;66;03m# some Python versions print out the first line of a multi-line function\u001b[39;00m\n\u001b[0;32m    346\u001b[0m \u001b[38;5;66;03m# calls in the traceback and some print out the last line\u001b[39;00m\n\u001b[1;32m--> 347\u001b[0m \u001b[43m_engine_run_backward\u001b[49m\u001b[43m(\u001b[49m\n\u001b[0;32m    348\u001b[0m \u001b[43m    \u001b[49m\u001b[43mtensors\u001b[49m\u001b[43m,\u001b[49m\n\u001b[0;32m    349\u001b[0m \u001b[43m    \u001b[49m\u001b[43mgrad_tensors_\u001b[49m\u001b[43m,\u001b[49m\n\u001b[0;32m    350\u001b[0m \u001b[43m    \u001b[49m\u001b[43mretain_graph\u001b[49m\u001b[43m,\u001b[49m\n\u001b[0;32m    351\u001b[0m \u001b[43m    \u001b[49m\u001b[43mcreate_graph\u001b[49m\u001b[43m,\u001b[49m\n\u001b[0;32m    352\u001b[0m \u001b[43m    \u001b[49m\u001b[43minputs\u001b[49m\u001b[43m,\u001b[49m\n\u001b[0;32m    353\u001b[0m \u001b[43m    \u001b[49m\u001b[43mallow_unreachable\u001b[49m\u001b[38;5;241;43m=\u001b[39;49m\u001b[38;5;28;43;01mTrue\u001b[39;49;00m\u001b[43m,\u001b[49m\n\u001b[0;32m    354\u001b[0m \u001b[43m    \u001b[49m\u001b[43maccumulate_grad\u001b[49m\u001b[38;5;241;43m=\u001b[39;49m\u001b[38;5;28;43;01mTrue\u001b[39;49;00m\u001b[43m,\u001b[49m\n\u001b[0;32m    355\u001b[0m \u001b[43m\u001b[49m\u001b[43m)\u001b[49m\n",
      "File \u001b[1;32mc:\\Users\\User\\AppData\\Local\\Programs\\Python\\Python311\\Lib\\site-packages\\torch\\autograd\\graph.py:823\u001b[0m, in \u001b[0;36m_engine_run_backward\u001b[1;34m(t_outputs, *args, **kwargs)\u001b[0m\n\u001b[0;32m    821\u001b[0m     unregister_hooks \u001b[38;5;241m=\u001b[39m _register_logging_hooks_on_whole_graph(t_outputs)\n\u001b[0;32m    822\u001b[0m \u001b[38;5;28;01mtry\u001b[39;00m:\n\u001b[1;32m--> 823\u001b[0m     \u001b[38;5;28;01mreturn\u001b[39;00m \u001b[43mVariable\u001b[49m\u001b[38;5;241;43m.\u001b[39;49m\u001b[43m_execution_engine\u001b[49m\u001b[38;5;241;43m.\u001b[39;49m\u001b[43mrun_backward\u001b[49m\u001b[43m(\u001b[49m\u001b[43m  \u001b[49m\u001b[38;5;66;43;03m# Calls into the C++ engine to run the backward pass\u001b[39;49;00m\n\u001b[0;32m    824\u001b[0m \u001b[43m        \u001b[49m\u001b[43mt_outputs\u001b[49m\u001b[43m,\u001b[49m\u001b[43m \u001b[49m\u001b[38;5;241;43m*\u001b[39;49m\u001b[43margs\u001b[49m\u001b[43m,\u001b[49m\u001b[43m \u001b[49m\u001b[38;5;241;43m*\u001b[39;49m\u001b[38;5;241;43m*\u001b[39;49m\u001b[43mkwargs\u001b[49m\n\u001b[0;32m    825\u001b[0m \u001b[43m    \u001b[49m\u001b[43m)\u001b[49m  \u001b[38;5;66;03m# Calls into the C++ engine to run the backward pass\u001b[39;00m\n\u001b[0;32m    826\u001b[0m \u001b[38;5;28;01mfinally\u001b[39;00m:\n\u001b[0;32m    827\u001b[0m     \u001b[38;5;28;01mif\u001b[39;00m attach_logging_hooks:\n",
      "\u001b[1;31mKeyboardInterrupt\u001b[0m: "
     ]
    }
   ],
   "source": [
    "trainer_stats = trainer.train()"
   ]
  },
  {
   "cell_type": "code",
   "execution_count": 28,
   "metadata": {},
   "outputs": [
    {
     "name": "stdout",
     "output_type": "stream",
     "text": [
      "==((====))==  Unsloth 2025.3.8: Fast Qwen2_5_Vl vision patching. Transformers: 4.49.0.dev0.\n",
      "   \\\\   /|    GPU: NVIDIA GeForce RTX 3090. Max memory: 23.999 GB. Platform: Windows.\n",
      "O^O/ \\_/ \\    Torch: 2.6.0+cu124. CUDA: 8.6. CUDA Toolkit: 12.4. Triton: 3.2.0\n",
      "\\        /    Bfloat16 = TRUE. FA [Xformers = 0.0.29.post3. FA2 = False]\n",
      " \"-____-\"     Free Apache license: http://github.com/unslothai/unsloth\n",
      "Unsloth: Fast downloading is enabled - ignore downloading bars which are red colored!\n"
     ]
    },
    {
     "data": {
      "text/plain": [
       "PeftModelForCausalLM(\n",
       "  (base_model): LoraModel(\n",
       "    (model): Qwen2_5_VLForConditionalGeneration(\n",
       "      (visual): Qwen2_5_VisionTransformerPretrainedModel(\n",
       "        (patch_embed): Qwen2_5_VisionPatchEmbed(\n",
       "          (proj): Conv3d(3, 1280, kernel_size=(2, 14, 14), stride=(2, 14, 14), bias=False)\n",
       "        )\n",
       "        (rotary_pos_emb): Qwen2_5_VisionRotaryEmbedding()\n",
       "        (blocks): ModuleList(\n",
       "          (0-31): 32 x Qwen2_5_VLVisionBlock(\n",
       "            (norm1): Qwen2RMSNorm((1280,), eps=1e-06)\n",
       "            (norm2): Qwen2RMSNorm((1280,), eps=1e-06)\n",
       "            (attn): Qwen2_5_VLVisionSdpaAttention(\n",
       "              (qkv): lora.Linear4bit(\n",
       "                (base_layer): Linear4bit(in_features=1280, out_features=3840, bias=True)\n",
       "                (lora_dropout): ModuleDict(\n",
       "                  (default): Identity()\n",
       "                )\n",
       "                (lora_A): ModuleDict(\n",
       "                  (default): Linear(in_features=1280, out_features=16, bias=False)\n",
       "                )\n",
       "                (lora_B): ModuleDict(\n",
       "                  (default): Linear(in_features=16, out_features=3840, bias=False)\n",
       "                )\n",
       "                (lora_embedding_A): ParameterDict()\n",
       "                (lora_embedding_B): ParameterDict()\n",
       "                (lora_magnitude_vector): ModuleDict()\n",
       "              )\n",
       "              (proj): lora.Linear4bit(\n",
       "                (base_layer): Linear4bit(in_features=1280, out_features=1280, bias=True)\n",
       "                (lora_dropout): ModuleDict(\n",
       "                  (default): Identity()\n",
       "                )\n",
       "                (lora_A): ModuleDict(\n",
       "                  (default): Linear(in_features=1280, out_features=16, bias=False)\n",
       "                )\n",
       "                (lora_B): ModuleDict(\n",
       "                  (default): Linear(in_features=16, out_features=1280, bias=False)\n",
       "                )\n",
       "                (lora_embedding_A): ParameterDict()\n",
       "                (lora_embedding_B): ParameterDict()\n",
       "                (lora_magnitude_vector): ModuleDict()\n",
       "              )\n",
       "            )\n",
       "            (mlp): Qwen2_5_VLMLP(\n",
       "              (gate_proj): lora.Linear4bit(\n",
       "                (base_layer): Linear4bit(in_features=1280, out_features=3420, bias=True)\n",
       "                (lora_dropout): ModuleDict(\n",
       "                  (default): Identity()\n",
       "                )\n",
       "                (lora_A): ModuleDict(\n",
       "                  (default): Linear(in_features=1280, out_features=16, bias=False)\n",
       "                )\n",
       "                (lora_B): ModuleDict(\n",
       "                  (default): Linear(in_features=16, out_features=3420, bias=False)\n",
       "                )\n",
       "                (lora_embedding_A): ParameterDict()\n",
       "                (lora_embedding_B): ParameterDict()\n",
       "                (lora_magnitude_vector): ModuleDict()\n",
       "              )\n",
       "              (up_proj): lora.Linear4bit(\n",
       "                (base_layer): Linear4bit(in_features=1280, out_features=3420, bias=True)\n",
       "                (lora_dropout): ModuleDict(\n",
       "                  (default): Identity()\n",
       "                )\n",
       "                (lora_A): ModuleDict(\n",
       "                  (default): Linear(in_features=1280, out_features=16, bias=False)\n",
       "                )\n",
       "                (lora_B): ModuleDict(\n",
       "                  (default): Linear(in_features=16, out_features=3420, bias=False)\n",
       "                )\n",
       "                (lora_embedding_A): ParameterDict()\n",
       "                (lora_embedding_B): ParameterDict()\n",
       "                (lora_magnitude_vector): ModuleDict()\n",
       "              )\n",
       "              (down_proj): lora.Linear4bit(\n",
       "                (base_layer): Linear4bit(in_features=3420, out_features=1280, bias=True)\n",
       "                (lora_dropout): ModuleDict(\n",
       "                  (default): Identity()\n",
       "                )\n",
       "                (lora_A): ModuleDict(\n",
       "                  (default): Linear(in_features=3420, out_features=16, bias=False)\n",
       "                )\n",
       "                (lora_B): ModuleDict(\n",
       "                  (default): Linear(in_features=16, out_features=1280, bias=False)\n",
       "                )\n",
       "                (lora_embedding_A): ParameterDict()\n",
       "                (lora_embedding_B): ParameterDict()\n",
       "                (lora_magnitude_vector): ModuleDict()\n",
       "              )\n",
       "              (act_fn): SiLU()\n",
       "            )\n",
       "          )\n",
       "        )\n",
       "        (merger): Qwen2_5_VLPatchMerger(\n",
       "          (ln_q): Qwen2RMSNorm((1280,), eps=1e-06)\n",
       "          (mlp): Sequential(\n",
       "            (0): Linear(in_features=5120, out_features=5120, bias=True)\n",
       "            (1): GELU(approximate='none')\n",
       "            (2): Linear(in_features=5120, out_features=2048, bias=True)\n",
       "          )\n",
       "        )\n",
       "      )\n",
       "      (model): Qwen2_5_VLModel(\n",
       "        (embed_tokens): Embedding(151936, 2048, padding_idx=151654)\n",
       "        (layers): ModuleList(\n",
       "          (0-35): 36 x Qwen2_5_VLDecoderLayer(\n",
       "            (self_attn): Qwen2_5_VLSdpaAttention(\n",
       "              (q_proj): lora.Linear4bit(\n",
       "                (base_layer): Linear4bit(in_features=2048, out_features=2048, bias=True)\n",
       "                (lora_dropout): ModuleDict(\n",
       "                  (default): Identity()\n",
       "                )\n",
       "                (lora_A): ModuleDict(\n",
       "                  (default): Linear(in_features=2048, out_features=16, bias=False)\n",
       "                )\n",
       "                (lora_B): ModuleDict(\n",
       "                  (default): Linear(in_features=16, out_features=2048, bias=False)\n",
       "                )\n",
       "                (lora_embedding_A): ParameterDict()\n",
       "                (lora_embedding_B): ParameterDict()\n",
       "                (lora_magnitude_vector): ModuleDict()\n",
       "              )\n",
       "              (k_proj): lora.Linear4bit(\n",
       "                (base_layer): Linear4bit(in_features=2048, out_features=256, bias=True)\n",
       "                (lora_dropout): ModuleDict(\n",
       "                  (default): Identity()\n",
       "                )\n",
       "                (lora_A): ModuleDict(\n",
       "                  (default): Linear(in_features=2048, out_features=16, bias=False)\n",
       "                )\n",
       "                (lora_B): ModuleDict(\n",
       "                  (default): Linear(in_features=16, out_features=256, bias=False)\n",
       "                )\n",
       "                (lora_embedding_A): ParameterDict()\n",
       "                (lora_embedding_B): ParameterDict()\n",
       "                (lora_magnitude_vector): ModuleDict()\n",
       "              )\n",
       "              (v_proj): lora.Linear4bit(\n",
       "                (base_layer): Linear4bit(in_features=2048, out_features=256, bias=True)\n",
       "                (lora_dropout): ModuleDict(\n",
       "                  (default): Identity()\n",
       "                )\n",
       "                (lora_A): ModuleDict(\n",
       "                  (default): Linear(in_features=2048, out_features=16, bias=False)\n",
       "                )\n",
       "                (lora_B): ModuleDict(\n",
       "                  (default): Linear(in_features=16, out_features=256, bias=False)\n",
       "                )\n",
       "                (lora_embedding_A): ParameterDict()\n",
       "                (lora_embedding_B): ParameterDict()\n",
       "                (lora_magnitude_vector): ModuleDict()\n",
       "              )\n",
       "              (o_proj): lora.Linear4bit(\n",
       "                (base_layer): Linear4bit(in_features=2048, out_features=2048, bias=False)\n",
       "                (lora_dropout): ModuleDict(\n",
       "                  (default): Identity()\n",
       "                )\n",
       "                (lora_A): ModuleDict(\n",
       "                  (default): Linear(in_features=2048, out_features=16, bias=False)\n",
       "                )\n",
       "                (lora_B): ModuleDict(\n",
       "                  (default): Linear(in_features=16, out_features=2048, bias=False)\n",
       "                )\n",
       "                (lora_embedding_A): ParameterDict()\n",
       "                (lora_embedding_B): ParameterDict()\n",
       "                (lora_magnitude_vector): ModuleDict()\n",
       "              )\n",
       "              (rotary_emb): Qwen2_5_VLRotaryEmbedding()\n",
       "            )\n",
       "            (mlp): Qwen2MLP(\n",
       "              (gate_proj): lora.Linear4bit(\n",
       "                (base_layer): Linear4bit(in_features=2048, out_features=11008, bias=False)\n",
       "                (lora_dropout): ModuleDict(\n",
       "                  (default): Identity()\n",
       "                )\n",
       "                (lora_A): ModuleDict(\n",
       "                  (default): Linear(in_features=2048, out_features=16, bias=False)\n",
       "                )\n",
       "                (lora_B): ModuleDict(\n",
       "                  (default): Linear(in_features=16, out_features=11008, bias=False)\n",
       "                )\n",
       "                (lora_embedding_A): ParameterDict()\n",
       "                (lora_embedding_B): ParameterDict()\n",
       "                (lora_magnitude_vector): ModuleDict()\n",
       "              )\n",
       "              (up_proj): lora.Linear4bit(\n",
       "                (base_layer): Linear4bit(in_features=2048, out_features=11008, bias=False)\n",
       "                (lora_dropout): ModuleDict(\n",
       "                  (default): Identity()\n",
       "                )\n",
       "                (lora_A): ModuleDict(\n",
       "                  (default): Linear(in_features=2048, out_features=16, bias=False)\n",
       "                )\n",
       "                (lora_B): ModuleDict(\n",
       "                  (default): Linear(in_features=16, out_features=11008, bias=False)\n",
       "                )\n",
       "                (lora_embedding_A): ParameterDict()\n",
       "                (lora_embedding_B): ParameterDict()\n",
       "                (lora_magnitude_vector): ModuleDict()\n",
       "              )\n",
       "              (down_proj): lora.Linear4bit(\n",
       "                (base_layer): Linear4bit(in_features=11008, out_features=2048, bias=False)\n",
       "                (lora_dropout): ModuleDict(\n",
       "                  (default): Identity()\n",
       "                )\n",
       "                (lora_A): ModuleDict(\n",
       "                  (default): Linear(in_features=11008, out_features=16, bias=False)\n",
       "                )\n",
       "                (lora_B): ModuleDict(\n",
       "                  (default): Linear(in_features=16, out_features=2048, bias=False)\n",
       "                )\n",
       "                (lora_embedding_A): ParameterDict()\n",
       "                (lora_embedding_B): ParameterDict()\n",
       "                (lora_magnitude_vector): ModuleDict()\n",
       "              )\n",
       "              (act_fn): SiLU()\n",
       "            )\n",
       "            (input_layernorm): Qwen2RMSNorm((2048,), eps=1e-06)\n",
       "            (post_attention_layernorm): Qwen2RMSNorm((2048,), eps=1e-06)\n",
       "          )\n",
       "        )\n",
       "        (norm): Qwen2RMSNorm((2048,), eps=1e-06)\n",
       "        (rotary_emb): Qwen2_5_VLRotaryEmbedding()\n",
       "      )\n",
       "      (lm_head): Linear(in_features=2048, out_features=151936, bias=False)\n",
       "    )\n",
       "  )\n",
       ")"
      ]
     },
     "execution_count": 28,
     "metadata": {},
     "output_type": "execute_result"
    }
   ],
   "source": [
    "from unsloth import FastVisionModel \n",
    "import torch \n",
    "model, tokenizer = FastVisionModel.from_pretrained(\n",
    "        model_name = \"outputs/checkpoint-500\", # YOUR MODEL YOU USED FOR TRAINING\n",
    "        load_in_4bit = True, # Set to False for 16bit LoRA\n",
    "    )\n",
    "FastVisionModel.for_inference(model) # Enable for inference!"
   ]
  },
  {
   "cell_type": "code",
   "execution_count": 29,
   "metadata": {},
   "outputs": [
    {
     "name": "stderr",
     "output_type": "stream",
     "text": [
      "100%|██████████| 519/519 [59:54<00:00,  6.93s/it]   \n"
     ]
    }
   ],
   "source": [
    "dev_outputs = []\n",
    "references = [] \n",
    "from tqdm import tqdm \n",
    "for data in tqdm(dev_dataset): \n",
    "    messages = convert_to_conversation(data, eval = True )\n",
    "    text = tokenizer.apply_chat_template(\n",
    "        messages, tokenize=False, add_generation_prompt=True\n",
    "    )\n",
    "    image_inputs, video_inputs = process_vision_info(messages)\n",
    "    inputs = tokenizer(\n",
    "        text = [text],\n",
    "        videos = [video_inputs],\n",
    "        add_special_tokens = False,\n",
    "        return_tensors = \"pt\",\n",
    "    ).to(\"cuda\")\n",
    "    from transformers import TextStreamer\n",
    "    # print (\"---------------\")\n",
    "    # print (data['text'])\n",
    "    references.append(data['text'])\n",
    "    #text_streamer = TextStreamer(tokenizer, skip_prompt = True)\n",
    "    \n",
    "    output  = model.generate(**inputs , max_new_tokens = 128) \n",
    "    dev_outputs.append(output[0])\n",
    "\n",
    "final_dev_outputs = tokenizer.batch_decode(dev_outputs, skip_special_tokens = True)\n",
    "\n",
    "\n",
    "\n"
   ]
  },
  {
   "cell_type": "code",
   "execution_count": 35,
   "metadata": {},
   "outputs": [
    {
     "name": "stdout",
     "output_type": "stream",
     "text": [
      "BLEU = 1.63 6.4/1.8/1.0/0.6 (BP = 1.000 ratio = 3.834 hyp_len = 26149 ref_len = 6820)\n"
     ]
    },
    {
     "ename": "",
     "evalue": "",
     "output_type": "error",
     "traceback": [
      "\u001b[1;31mThe Kernel crashed while executing code in the current cell or a previous cell. \n",
      "\u001b[1;31mPlease review the code in the cell(s) to identify a possible cause of the failure. \n",
      "\u001b[1;31mClick <a href='https://aka.ms/vscodeJupyterKernelCrash'>here</a> for more info. \n",
      "\u001b[1;31mView Jupyter <a href='command:jupyter.viewOutput'>log</a> for further details."
     ]
    }
   ],
   "source": [
    "## save the outputs \n",
    "with open(\"dev_outputs500.txt\", \"w\", encoding = \"utf-8\") as f:\n",
    "    for output in final_dev_outputs:\n",
    "        output = output.split(\"\\nassistant\\n\")[1].strip()\n",
    "        f.write(output + \"\\n\")\n",
    "\n",
    "with open(\"references500.txt\", \"w\", encoding = \"utf-8\") as f:\n",
    "    for reference in references:\n",
    "        f.write(reference + \"\\n\")\n",
    "\n",
    "# use sacrebleu to calculate the bleu score \n",
    "from sacrebleu import corpus_bleu\n",
    "\n",
    "bleu_score = corpus_bleu(final_dev_outputs, [references])\n",
    "print (bleu_score)\n"
   ]
  },
  {
   "cell_type": "code",
   "execution_count": 15,
   "metadata": {},
   "outputs": [],
   "source": []
  },
  {
   "cell_type": "code",
   "execution_count": 17,
   "metadata": {},
   "outputs": [
    {
     "name": "stdout",
     "output_type": "stream",
     "text": [
      "['dabei strömt kältere luft zu uns', 'das tief über der nordsee lenkt von westen kühle luft nach deutschland', 'im süden schwacher bis mäßiger wind im norden weht er frisch mit starken an der küste auch mit stürmischen böen', 'am samstag ziehen dann von westen wieder neue schneefälle heran die vor allem im süden und osten deutschlands für unwetter sorgen', 'und nun die wettervorhersage für morgen samstag den siebenundzwanzigsten mai', 'im norden und westen ist es meist klar', 'und die temperaturen sinken auf den gefrierpunkt im nordosten und auch im südwesten da bleibt es dann auch noch überwiegend frostfrei', 'heute nacht temperaturen zwischen sieben und ein grad in alpennähe bis minus fünf grad', 'ihnen noch einen schönen abend und machen sie es gut', 'im süden und südosten bleibt es noch trocken und teilweise freundlich', 'im süden und südosten bleibt es meist trocken und teilweise auch freundlich', 'im süden und südwesten ist es heute nacht meist stark bewölkt oder neblig trüb', 'der wind weht schwach bis mäßig an der nordsee auch frisch', 'heute nacht werte zwischen minus fünf und minus ein grad am tag dann temperaturen zwischen plus vier und plus zwölf grad', 'am samstag ziehen dann von westen wieder neue wolken heran die im süden und osten teilweise kräftige schauer bringen', 'und morgen früh wird es dann auch im westen schon wieder ein bisschen wärmer als heute', 'und die temperaturen sinken auf den gefrierpunkt im nordosten und auch im südwesten da bleibt es dann auch meist frostfrei', 'und nun die wettervorhersage für morgen samstag den siebenundzwanzigsten mai', 'und die temperaturen steigen dann auch noch weiter auf bis zu sieben grad am samstag im süden deutschlands', 'im süden und osten bleibt es meist trocken', 'im süden und südwesten ist es heute nacht meist stark bewölkt oder neblig trüb teilweise auch klar', 'und die temperaturen sinken weiter auf den gefrierpunkt im nordosten und auch im südwesten da bleibt es dann auch noch überall frostig bis minus fünf grad', 'am samstag ziehen überall dichtere wolken heran gebietsweise regnet es etwas im süden auch schnee oder gefrierender regen', 'am samstag wechselhaftes wetter mit sonne wolken und schauern', 'im süden schwacher bis mäßiger wind aus unterschiedlichen richtungen', 'im süden und südosten fällt heute nacht gebietsweise noch etwas schnee oder gefrierender regen sonst ist es meist trocken', 'im norden und nordosten ist es heute nacht meist stark bewölkt oder neblig trüb teilweise auch klar', 'heute nacht temperaturen zwischen sieben und ein grad an den alpen bis minus fünf grad', 'und das wird auch nochmal die temperaturen steigern bis zu sieben grad am samstag im westen und bis zu zwölf grad in der lausitz', 'am samstag ziehen dann von westen wieder neue schneefälle heran die vor allem im bergland gefrieren', 'am samstag ziehen dann von westen wieder neue wolken ins land mit regen und wind', 'am samstag wird es dann deutlich milder', 'im süden und osten bleibt es noch trocken und teilweise freundlich', 'am samstag wird es dann deutlich milder', 'und das ist auch schon ein erster schritt in die richtung der kälteren luft', 'und das wird auch nochmal die wetterlage bestimmen', 'das tief das sich von polen bis ins südliche mitteleuropa erstreckt bringt uns morgen vor allem im norden und westen teilweise kräftige schneefälle', 'heute nacht temperaturen zwischen sechs und ein grad im süden bis minus zwei grad', 'am samstag ziehen dann von westen wieder neue schnee heran', 'heute nacht ist es meist stark bewölkt oder neblig trüb hier und da fällt etwas regen im süden sowie an den küsten teilweise auch schnee', 'im süden bleibt es noch trocken', 'und die temperaturen sinken auf den gefrierpunkt im nordosten deutschlands', 'liebe zuschauer guten abend', 'und das ist auch gut so es wird ja noch heißer die sonne kommt auf jeden fall bis zum wochenende und wir haben dann den frost nur noch im nordosten minus zwei bis minus drei grad und da bleibt es auch noch kühler', 'der wind weht schwach bis mäßig an der nordsee auch frisch bei schauern und gewittern sind sturmböen möglich', 'im süden und südwesten fällt heute nacht gebietsweise noch etwas schnee oder gefrierender regen sonst ist es meist trocken', 'im norden und nordosten bleibt es meist trocken und teilweise auch freundlich', 'im süden und osten bleibt es noch freundlich', 'heute nacht temperaturen zwischen sieben und ein grad am tag dann werte zwischen fünf und zwölf grad', 'heute nacht werte zwischen minus fünf und minus ein grad', 'heute nacht temperaturen zwischen sechs und ein grad an den alpen bis minus zwei grad', 'und das ist ja schon ein bisschen kritisch', 'und das ist auch schon ein bisschen kühler als heute', 'und nun die wettervorhersage für morgen samstag den dreißigsten mai', 'im norden und osten weht der wind schwach bis mäßig an der nordsee auch frisch mit starken bis stürmischen böen', 'am samstag ziehen überall dichtere wolken heran gebietsweise regnet es etwas im süden auch schnee', 'am samstag ziehen dann von westen wieder neue wolken heran die teilweise kräftige schneefälle bringen', 'liebe zuschauer guten abend', 'und das ist auch noch nicht alles es wird noch ein bisschen kühler werden', 'liebe zuschauer guten abend', 'das tief das sich von frankreich bis ins südliche mitteleuropa erstreckt bringt uns morgen viel sonnenschein', 'und die temperaturen sinken auf den gefrierpunkt im nordosten und auch im südwesten deutschlands', 'das tief das sich von polen bis ins südliche mitteleuropa erstreckt bringt uns morgen viele wolken und etwas regen', 'es gelten entsprechende unwetterwarnungen des deutschen wetterdienstes', 'das tief über der nordsee lenkt kühlere luft nach deutschland', 'dabei fließt weiterhin kühle luft heran und es wird auch noch ein bisschen wärmer', 'im süden und südwesten fällt heute nacht gebietsweise noch etwas schnee oder gefrierender regen', 'im norden und westen lockert es morgen auf stellenweise bildet sich nebel', 'im norden und nordosten ziehen dichtere wolkenfelder vorüber es bleibt meist trocken', 'und morgen früh wird es dann auch im westen schon wieder ein bisschen wärmer als heute mit fünf bis zehn grad', 'und die temperaturen sinken auf den gefrierpunkt im nordosten und auch im südwesten da sind es nur noch null bis minus ein grad und dort wird es morgen früh auch am längsten trocken sein', 'und das ist auch schon ein erster schritt in die richtung der kälteren luft', 'und das ist auch noch nicht alles es wird noch ein bisschen kühler werden', 'heute nacht temperaturen zwischen sechs und ein grad im süden bis minus zwei grad', 'das tief das sich von polen bis ins südliche mitteleuropa erstreckt bringt uns morgen viele wolken und etwas regen', 'am tag minus fünf grad im vogtland und plus vier grad an der nordsee', 'der wind weht schwach bis mäßig an der nordsee auch frisch bei schauern und gewittern sind sturmböen möglich', 'das tief das sich von polen bis ins südliche mitteleuropa erstreckt bringt uns morgen wechselhaftes wetter', 'im süden ist es meist freundlich', 'am samstag ziehen über die nordhälfte wieder viele wolken teilweise ist es auch noch wolkig aber meist trocken und es bleibt weitgehend trocken', 'und die temperaturen sinken auf den gefrierpunkt im nordosten und auch im südwesten da bleibt es dann auch noch überall frostig bis minus fünf grad', 'im süden und südwesten ist es heute nacht meist stark bewölkt oder neblig trüb teilweise auch klar', 'im süden schwacher bis mäßiger wind aus unterschiedlichen richtungen', 'und nun die wettervorhersage für morgen samstag den dreißigsten mai', 'und die temperaturen sinken auf den gefrierpunkt im nordosten und auch im südwesten da bleibt es dann auch noch überall frostig bis minus fünf grad', 'und die temperaturen sinken auf den gefrierpunkt im nordosten und auch im südwesten da bleibt es dann auch meist frostfrei während es in der mitte teilweise kräftig schneit', 'heute nacht temperaturen zwischen sieben und ein grad an den alpen bis minus fünf grad', 'im süden bleibt es noch trocken und sonnig', 'ihnen noch einen schönen abend und machen sie es gut', 'das hoch über skandinavien sorgt morgen für viel sonnenschein und sommerliche temperaturen', 'und das ist ja schon ein bisschen kritisch da haben wir nur noch sieben bis neun grad und es wird auch noch kritischer werden', 'der wind weht schwach bis mäßig an der nordsee auch frisch aus südwest bis west', 'im süden und südwesten weht der wind schwach bis mäßig an der nordsee auch frisch mit starken bis stürmischen böen', 'und die temperaturen sinken auf den gefrierpunkt im westen sogar bis minus vier grad', 'und das ist ja schon mal ein bisschen trockeneres wetter als wir es gewöhnt sind', 'im süden ist es meist freundlich', 'im süden bleibt es noch trocken und teilweise freundlich', 'im süden und südosten bleibt es noch trocken und teilweise freundlich', 'heute nacht temperaturen zwischen sechs und ein grad an den alpen minus ein grad', 'und die temperaturen sinken auf den gefrierpunkt im nordosten und auch im südwesten da bleibt es dann auch noch überall frostig bis minus fünf grad', 'das hoch über skandinavien verlagert sich weiter nach osten', 'das tief über der nordsee lenkt kältere luft nach deutschland', 'im süden und osten bleibt es trocken', 'am samstag wechselhaftes wetter', 'ihnen einen schönen abend und machen sie es gut', 'und das ist ja schon mal ein bisschen trockeneres wetter als wir es gewöhnt sind', 'und das ist auch gut für die landwirtschaft', 'ihnen noch einen schönen abend und machen sie es gut', 'heute nacht ist es meist stark bewölkt oder neblig trüb hier und da fällt etwas regen im nordwesten auch schnee', 'im norden und nordosten bleibt es meist trocken und teilweise auch freundlich während sich von westen die wolken dichter und die schneefälle später noch verstärken', 'und nun die wettervorhersage für morgen samstag den siebenundzwanzigsten mai', 'und nun die wettervorhersage für morgen samstag den siebenundzwanzigsten mai', 'im süden und südwesten fällt heute nacht gebietsweise noch etwas schnee oder gefrierender regen sonst ist es meist trocken teilweise auch klar', 'am samstag ziehen dann von westen wieder neue wolken heran die im süden und osten teilweise kräftige schauer bringen', 'im süden und südosten fällt heute nacht gebietsweise noch etwas schnee oder gefrierender regen', 'am samstag ziehen dann von westen wieder neue niederschläge heran die sich bis zum sonntag weiter ausbreiten und dabei auch kräftig sind', 'das tief über der nordsee lenkt morgen vor allem in den norden deutschlands noch etwas regenwetter', 'am samstag ziehen dann von westen wieder neue wolken heran die teilweise kräftige schneefälle bringen', 'der wind weht schwach bis mäßig an der nordsee auch frisch', 'heute nacht temperaturen zwischen minus fünf und minus ein grad am tag dann werte zwischen minus sieben und plus drei grad', 'heute nacht temperaturen zwischen sieben und ein grad am tag dann werte zwischen fünfzehn und zwanzig grad', 'im süden und südosten bleibt es noch trocken und teilweise freundlich während sich von westen die wolken dichter und die schneefälle auch auf den bergen stärker bemerkbar werden', 'und es wird auch noch ein bisschen kühler', 'ihnen noch einen schönen abend und machen sie es gut', 'das tief das sich von polen bis ins südliche mitteleuropa erstreckt bringt uns morgen vor allem im norden und osten wechselhaftes wetter', 'der wind weht schwach bis mäßig an der nordsee auch frisch', 'am samstag ziehen dann von westen wieder neue wolken heran die teilweise kräftige schneefälle bringen', 'am samstag wird es dann deutlich milder', 'im norden und osten ist es heute nacht meist stark bewölkt oder neblig trüb teilweise klart es auch auf stellenweise bildet sich nebel', 'der wind weht schwach bis mäßig an der nordsee auch frisch bei schauern und gewittern sind sturmböen möglich', 'am tag fünf grad im vogtland und dreizehn grad am oberrhein', 'und nun die wettervorhersage für morgen samstag den siebenundzwanzigsten mai', 'im norden und westen bleibt es meist trocken', 'im süden und osten bleibt es meist trocken', 'im norden und osten bleibt es meist trocken und teilweise auch freundlich während sich von westen ein regenband ausbreitet der später in kräftige schauer und gewitter übergeht', 'heute nacht temperaturen zwischen sechs und ein grad wo es aufklart bis minus sieben grad', 'im süden schwacher bis mäßiger wind aus unterschiedlichen richtungen', 'heute nacht temperaturen zwischen sechs und ein grad in alpennähe bis minus zwei grad', 'heute nacht temperaturen zwischen sechs und ein grad am tag dann werte zwischen minus fünf und minus ein grad', 'am tag fünf grad im vogtland und dreizehn grad am oberrhein', 'und das wird auch nochmal die temperaturen bestimmen so bis zu den null grad die wir dann morgen noch im westen erreichen werden', 'und die temperaturen steigen dann auch noch weiter bis zu den werten von einhundertsieben grad am samstag im westen und bis zu zwanzig grad im osten', 'und nun die wettervorhersage für morgen samstag den siebenundzwanzigsten mai', 'im süden ist es meist freundlich', 'heute nacht temperaturen zwischen sieben und ein grad an den alpen bis minus fünf grad', 'im süden und südosten bleibt es bis zum abend meist trocken', 'am tag fünf grad im vogtland und dreizehn grad am oberrhein', 'und das ist auch noch nicht alles es kommt ja noch ein bisschen mehr regen dazu', 'am samstag ziehen dann von westen wieder neue wolken heran die teilweise kräftig regnen', 'im süden und südwesten fällt heute nacht gebietsweise noch etwas schnee oder gefrierender regen', 'im süden und südosten bleibt es meist trocken und teilweise auch freundlich', 'am samstag ziehen dann von westen wieder neue niederschläge heran die im südwesten und westen teilweise kräftig sind', 'und die temperaturen sinken auf den gefrierpunkt im nordosten und auch im südwesten da bleibt es dann auch meist frostfrei während es in der mitte teilweise kräftig schneit', 'und die temperaturen sinken auf den gefrierpunkt im nordosten und auch im süden deutschlands', 'heute nacht temperaturen zwischen minus fünf und minus ein grad', 'heute nacht temperaturen zwischen minus fünf und minus ein grad', 'im süden und südwesten ist es heute nacht meist stark bewölkt oder neblig trüb', 'im süden und südosten bleibt es meist trocken und teilweise auch freundlich', 'im süden und osten ist es meist klar', 'im süden und südosten bleibt es meist trocken und teilweise auch freundlich', 'heute nacht werte zwischen minus fünf und minus ein grad am tag dann temperaturen zwischen plus vier und plus zwölf grad', 'und die temperaturen sinken auf den gefrierpunkt im nordosten und auch im südwesten deutschlands', 'und nun die wettervorhersage für morgen samstag den siebenundzwanzigsten mai', 'heute nacht ist es meist stark bewölkt oder neblig trüb hier und da fällt etwas regen am tag ziehen überall dichtere wolken ein bisschen kühler dabei wird es teilweise freundlich', 'liebe zuschauer guten abend', 'und die temperaturen steigen dann auch noch weiter bis zu den werten von einhundertsieben grad und das ist ja schon eine kühle nacht vor allen dingen im westen und süden', 'im süden und südwesten fällt heute nacht gebietsweise noch etwas schnee oder gefrierender regen sonst ist es meist trocken', 'heute nacht temperaturen zwischen sieben und ein grad an den alpen bis minus fünf grad', 'heute nacht temperaturen zwischen sieben und ein grad an den alpen bis minus zwei grad', 'im süden und südwesten ist es heute nacht meist stark bewölkt oder neblig trüb teilweise auch klar', 'im süden und südwesten fällt heute nacht gebietsweise etwas schnee oder gefrierender regen', 'und nun die wettervorhersage für morgen samstag den dreißigsten mai', 'am samstag ziehen dann von westen wieder neue wolken ins land mit etwas regen oder schnee', 'heute nacht temperaturen zwischen sieben und ein grad in alpennähe bis minus fünf grad', 'am tag fünf grad im vogtland und dreizehn grad am oberrhein', 'und das ist auch gut für die landwirtschaft denn es wird ja wieder trockener werden', 'ihnen einen schönen abend und machen sie es gut', 'am samstag ziehen überall dichtere wolken heran gebietsweise regnet es etwas im süden und osten ist es auch freundlich', 'am samstag viel sonnenschein und nur noch wenige wolken', 'im norden und osten bleibt es meist trocken und teilweise auch freundlich', 'am samstag ziehen überall dichtere wolken heran gebietsweise regnet es etwas im süden und osten ist es auch freundlich', 'im süden ist es meist freundlich', 'und morgen früh wird es dann auch im westen schon wieder ein richtiges sonniges tageszeichen', 'und das wird auch nochmal die temperaturen bestimmen sie werden dann von minus fünf grad bis plus vier grad reichen', 'und morgen früh wird es dann auch im westen schon wieder ein bisschen wärmer als heute mit fünf bis zehn grad', 'im norden und nordosten bleibt es meist trocken und teilweise auch freundlich während sich von westen wieder stürmische winde ausbreiten', 'und morgen früh wird es dann auch im westen schon wieder ein bisschen wärmer als heute mit fünf bis zehn grad', 'und das war es für heute schönen abend noch', 'im süden und südwesten ist es heute nacht meist stark bewölkt oder neblig trüb teilweise auch klar', 'im süden und südwesten ist es heute nacht meist stark bewölkt oder neblig trüb teilweise auch klar', 'und nun die wettervorhersage für morgen samstag den dreißigsten mai', 'und nun die wettervorhersage für morgen samstag den dreißigsten mai', 'im süden und osten bleibt es noch freundlich', 'das tief über der nordsee lenkt von westen kühle luft nach deutschland', 'im norden und westen ist es heute nacht meist stark bewölkt oder neblig trüb', 'im süden und südosten bleibt es noch trocken und teilweise freundlich', 'am samstag ziehen dann von westen wieder neue wolken heran die teilweise kräftige schneefälle bringen', 'am samstag ziehen über die nordhälfte wieder viele wolken teilweise ist es auch noch wolkig sonst zeigt sich neben einigen nebelfeldern auch mal die sonne', 'im süden und südwesten fällt heute nacht gebietsweise etwas schnee oder gefrierender regen', 'am samstag wird es dann deutlich milder', 'am samstag wechselhaftes wetter', 'am samstag wechselhaftes wetter mit sonne wolken und schauern', 'am samstag ziehen dann von westen wieder neue wolken heran die im südwesten und westen teilweise kräftige schauer bringen', 'und die temperaturen sinken auf den gefrierpunkt im nordosten deutschlands', 'im süden ist es meist freundlich', 'und die temperaturen steigen dann auch noch weiter auf den wochenende vier grad am samstag und bis zu zwölf grad am sonntag im westen', 'und das wird auch nochmal die temperaturen bestimmen', 'und nun die wettervorhersage für morgen samstag den dreißigsten mai', 'und morgen früh wird es dann auch im westen schon wieder ein bisschen wärmer als heute mit fünf bis zehn grad', 'im süden ist es meist trocken und freundlich', 'und die nächsten tage werden auch noch sehr ähnlich sein', 'und die temperaturen sinken auf den gefrierpunkt im nordosten und auch im südwesten deutschlands', 'und die temperaturen sinken auf den gefrierpunkt im nordosten und auch im südwesten deutschlands', 'und nun die wettervorhersage für morgen samstag den siebenundzwanzigsten mai', 'und nun die wettervorhersage für morgen samstag den siebenundzwanzigsten mai', 'im norden und westen weht der wind schwach bis mäßig an der nordsee auch frisch', 'der wind weht schwach bis mäßig an der nordsee auch frisch', 'im süden bleibt es noch trocken und auch freundlich', 'im süden bleibt es noch trocken und sonnig', 'das tief über der nordsee lenkt von westen kühle luft nach deutschland', 'heute nacht temperaturen zwischen sieben und ein grad in alpennähe bis minus fünf grad', 'am tag fünf grad im vogtland und dreizehn grad am oberrhein', 'im süden und südosten fällt heute nacht gebietsweise noch etwas schnee oder gefrierender regen sonst ist es meist trocken', 'und nun die wettervorhersage für morgen samstag den siebenundzwanzigsten mai', 'der wind weht schwach bis mäßig an der nordsee auch frisch aus südwest bis west', 'ihnen noch einen schönen abend und machen sie es gut', 'im süden und südwesten fällt heute nacht gebietsweise noch etwas schnee oder gefrierender regen sonst ist es meist trocken', 'heute nacht sieben grad an der ostsee und minus ein grad im südwesten', 'am samstag viel sonnenschein und sommerliche temperaturen', 'am samstag wechselhaftes wetter mit sonne wolken und schauern', 'das tief über der nordsee zieht weiter nach osten und bringt morgen vor allem dem norden deutschlands noch regen', 'im süden und südosten bleibt es noch trocken und teilweise freundlich', 'am samstag ziehen über die nordhälfte wieder viele wolken und gebietsweise regen oder schauer dabei ist es teilweise windig', 'und die temperaturen sind auch noch so angenehm zwischen vier und sieben grad am samstag dann schon wieder ein bisschen kühler nur noch im nordosten bis zu zwölf grad', 'und das ist ja schon mal ein bisschen trockeneres wetter als wir es gewöhnt sind', 'heute nacht temperaturen zwischen sieben und ein grad im süden bis vier grad', 'am samstag wechselhaftes wetter', 'am samstag ziehen dann von westen wieder neue schnee heran die temperaturen sinken auf werte um den gefrierpunkt', 'das tief über der nordsee lenkt von westen kühle luft nach deutschland', 'der wind weht schwach bis mäßig an der nordsee auch frisch', 'und nun die wettervorhersage für morgen samstag den siebenundzwanzigsten mai', 'am samstag wechselhaftes wetter mit sonne wolken und schauern', 'heute nacht temperaturen zwischen sieben und ein grad in alpennähe bis minus fünf grad', 'am tag fünf grad im vogtland und dreizehn grad am oberrhein', 'am samstag ziehen dann von westen wieder neue wolken heran die im süden und osten teilweise kräftige schauer bringen', 'und das ist auch schon ein bisschen kühler als heute', 'und das ist ja schon ein bisschen kühler als heute', 'und das ist auch schon ein bisschen kühler als heute', 'ihnen einen schönen abend und machen sie es gut', 'und nun die wettervorhersage für morgen samstag den dreißigsten mai', 'im süden ist es meist trocken und teilweise auch freundlich', 'im süden und osten bleibt es meist trocken', 'im süden und osten bleibt es trocken und teilweise auch freundlich', 'es bestehen entsprechende unwetterwarnungen des deutschen wetterdienstes', 'das tief das sich von polen bis ins südliche mitteleuropa erstreckt bringt uns morgen viele wolken und etwas regen', 'am samstag ziehen über die nordhälfte wieder viele wolken teilweise regnet es kräftig dabei ist es windig', 'und die nächsten tage werden auch noch ein bisschen kühler sein als heute mit vielleicht ein paar schneeschauern im westen oder auch im süden und vor allen dingen wird es dann auch noch sehr windig sein', 'das tief das sich von polen bis ins südliche mitteleuropa erstreckt bringt uns morgen vor allem im norden und westen wechselhaftes wetter', 'und das wird auch nochmal die temperaturen bestimmen', 'im süden und osten bleibt es noch freundlich', 'im süden ist es meist freundlich', 'im süden und südosten fällt heute nacht gebietsweise etwas schnee oder gefrierender regen', 'im süden ist es meist freundlich', 'im süden ist es meist freundlich', 'im norden und nordosten ist es heute nacht meist stark bewölkt oder neblig trüb', 'im süden und südwesten fällt heute nacht gebietsweise noch etwas schnee oder gefrierender regen sonst ist es meist trocken', 'am tag fünf grad im vogtland und dreizehn grad am oberrhein', 'am samstag ziehen dann von westen wieder neue wolken heran die im süden und osten teilweise kräftige schauer bringen', 'das tief über der nordsee lenkt von westen kühle luft nach deutschland', 'das tief über der nordsee lenkt von westen kühle luft nach deutschland', 'im süden und südosten bleibt es noch trocken und auch freundlich mit sonne und wolken', 'im süden ist es meist freundlich', 'und die temperaturen steigen langsam an bis zu sieben grad am samstag im süden und in der mitte deutschlands', 'am tag fünf grad im vogtland und dreizehn grad am oberrhein', 'heute nacht temperaturen zwischen sieben und ein grad in alpennähe bis minus fünf grad', 'im süden und südwesten fällt heute nacht gebietsweise noch etwas schnee oder gefrierender regen sonst ist es meist trocken', 'am samstag ziehen dann von westen wieder neue wolken heran die teilweise kräftige schneefälle bringen', 'heute nacht ist es meist stark bewölkt oder neblig trüb hier und da fällt etwas regen am häufigsten zeigt sich die sonne im nordwesten sowie über den bergen der mittelgebirge', 'im süden und südosten bleibt es meist trocken und teilweise auch freundlich', 'im süden und südwesten fällt heute nacht gebietsweise noch etwas schnee oder gefrierender regen sonst ist es meist trocken', 'der wind weht schwach bis mäßig an der nordsee auch frisch', 'am samstag ziehen dann von westen wieder neue wolken heran die im süden und osten teilweise kräftige schauer bringen', 'das tief das sich von polen bis ins südliche mitteleuropa erstreckt bringt morgen vor allem dem nordosten deutschlands noch regen', 'am samstag wird es dann deutlich milder', 'am samstag wird es dann deutlich milder', 'im norden und osten bleibt es meist trocken und teilweise auch freundlich während sich von westen wieder neue regenfälle ausbreiten', 'im süden ist es meist freundlich', 'am samstag ziehen überall dichtere wolken heran gebietsweise regnet es etwas im süden und osten ist es windig', 'der wind weht schwach bis mäßig an der nordsee auch frisch bei schauern und gewittern sind sturmböen möglich', 'und nun die wettervorhersage für morgen samstag den siebenundzwanzigsten mai', 'am samstag ziehen dann von westen wieder neue niederschläge heran die im südwesten und westen teilweise kräftig sind', 'dabei fließt weiterhin kühle luft heran und es wird auch noch ein bisschen wärmer', 'es gelten entsprechende unwetterwarnungen des deutschen wetterdienstes', 'im süden schwacher bis mäßiger wind aus unterschiedlichen richtungen', 'am samstag ziehen dann von westen wieder neue wolken heran die im süden und osten teilweise kräftige schauer bringen', 'am samstag ziehen dann von westen wieder neue wolken heran die im süden und osten teilweise kräftige schauer bringen', 'im süden und südwesten fällt heute nacht gebietsweise noch etwas schnee oder gefrierender regen sonst ist es meist trocken örtlich bildet sich nebel und morgen scheint verbreitet die sonne', 'und die temperaturen werden dann auch nochmal deutlich kühler als heute mit vier bis sieben grad', 'und das wird sich auch noch weiter ausbreiten bis morgen abend', 'und das ist auch schon ein bisschen kühler als heute', 'und morgen früh wird es dann auch im westen schon wieder ein bisschen wärmer als heute mit fünf bis zehn grad', 'und die temperaturen sinken auf den gefrierpunkt im nordosten und auch im südwesten', 'im süden und südosten bleibt es meist trocken und teilweise auch freundlich', 'im süden und südosten bleibt es meist trocken', 'im süden und südosten fällt heute nacht gebietsweise etwas schnee oder gefrierender regen', 'im süden und südwesten fällt heute nacht gebietsweise etwas schnee oder gefrierender regen sonst teils wolkig teils klar und meist trocken', 'im süden und osten bleibt es meist trocken und teilweise auch freundlich', 'im süden und osten bleibt es noch freundlich', 'am samstag wechselhaftes wetter mit schauern und gewittern', 'am samstag wird es dann deutlich milder', 'am samstag ziehen dann von westen wieder neue schneefälle heran', 'und die temperaturen sinken auf den gefrierpunkt oder nahe null grad', 'und die temperaturen steigen dann auch noch weiter auf bis zu sieben grad am samstag und am sonntag wird es dann richtig warm', 'heute nacht minus fünf grad an der ostsee und bis minus zwanzig grad im süden deutschlands', 'im süden und osten bleibt es noch trocken', 'heute nacht temperaturen zwischen sieben und ein grad an den alpen bis minus fünf grad', 'liebe zuschauer guten abend', 'im süden und südwesten fällt heute nacht gebietsweise noch etwas schnee oder gefrierender regen sonst ist es meist trocken', 'im süden bleibt es noch trocken und sonnig', 'im süden und südosten bleibt es meist trocken', 'im westen und nordwesten ist es meist klar', 'im süden und osten bleibt es meist trocken', 'im süden und südwesten ist es heute nacht meist stark bewölkt oder neblig trüb', 'der wind weht schwach bis mäßig an der nordsee auch frisch', 'im norden und osten bleibt es meist trocken und teilweise auch freundlich während sich von westen kräftiger regen ausbreitet der örtlich unwetterartig sein kann', 'heute nacht temperaturen zwischen sechs und ein grad in alpennähe bis minus zwei grad', 'das tief über der nordsee zieht weiter nach osten und macht sich morgen abend im westen bemerkbar', 'heute nacht sieben grad an der ostsee und minus ein grad im südwesten', 'und das wird auch nochmal die temperaturen bestimmen sie werden dann von minus fünf grad bis plus vier grad schwanken', 'und nun die wettervorhersage für morgen samstag den siebenundzwanzigsten mai', 'im süden ist es meist freundlich', 'am samstag ziehen dann von westen wieder neue wolken heran die teilweise kräftig regnen', 'im süden und südosten fällt heute nacht gebietsweise noch etwas schnee oder gefrierender regen', 'heute nacht temperaturen zwischen sechs und ein grad an den alpen minus ein grad', 'im norden und osten weht der wind schwach bis mäßig an der nordsee auch frisch', 'am samstag viel sonnenschein und es wird noch wärmer', 'und die temperaturen steigen langsam an bis zu sieben grad am samstag im westen', 'der wind weht schwach bis mäßig an der nordsee auch frisch bei schauern und gewittern sind sturmböen möglich', 'und die temperaturen sinken auf den gefrierpunkt im nordosten deutschlands', 'und das wird auch nochmal die temperaturen bestimmen', 'am samstag ziehen dann von westen wieder neue wolken heran die teilweise kräftige schneefälle bringen', 'liebe zuschauer guten abend', 'und das ist auch schon ein erster schritt in die richtung der kälte', 'und die nächsten tage werden auch noch sehr kühl und trübe mit viel sonnenschein im osten und südosten deutschlands', 'im süden und osten bleibt es noch trocken', 'ihnen noch einen schönen abend und machen sie es gut', 'im norden und nordosten weht der wind schwach bis mäßig sonst nur schwacher wind aus unterschiedlichen richtungen', 'und nun die wettervorhersage für morgen samstag den siebenundzwanzigsten mai', 'am samstag ziehen dann von westen wieder neue niederschläge heran die sich langsam verstärken', 'und die nächsten tage werden auch noch ein bisschen kühler sein als heute mit vier bis sieben grad und vor allen dingen trocken', 'heute nacht ist es meist stark bewölkt oder neblig trüb hier und da fällt etwas regen im süden und osten teilweise kräftiger als im norden', 'das tief das sich von polen bis ins südliche mitteleuropa erstreckt bringt uns morgen viele wolken und etwas regen', 'und nun die wettervorhersage für morgen samstag den siebenundzwanzigsten mai', 'im süden und südosten bleibt es bis zum abend meist trocken', 'und morgen früh wird es dann auch im westen schon wieder ein bisschen wärmer als heute mit fünf bis zehn grad', 'heute nacht temperaturen zwischen sechs und ein grad am tag dann werte zwischen minus fünf und minus ein grad an den alpen bis minus sieben grad', 'heute nacht temperaturen zwischen sechs und ein grad im süden bis minus zwei grad', 'am samstag viel sonnenschein und nur noch wenige wolken', 'am samstag ziehen über die nordhälfte wieder neue wolken mit etwas regen oder schnee nach norden sonst viel sonnenschein', 'im süden und osten bleibt es trocken', 'am samstag ziehen über die nordhälfte wieder neue wolken mit etwas regen oder schnee nach norden sonst viel sonnenschein und bis zu siebenundzwanzig grad', 'am samstag ziehen dann von westen wieder neue schneefälle heran die vor allem im bergland gefrieren', 'im norden und nordosten lockert es heute nacht verbreitet auf stellenweise bildet sich nebel oder hochnebel', 'im süden und südwesten fällt heute nacht gebietsweise noch etwas schnee oder gefrierender regen', 'und nun die wettervorhersage für morgen samstag den dreißigsten mai', 'und nun die wettervorhersage für morgen samstag den siebenundzwanzigsten mai', 'im süden und südosten fällt heute nacht gebietsweise etwas schnee oder gefrierender regen', 'heute nacht sieben grad an der ostsee und minus ein grad im südwesten', 'im süden und südwesten ist es meist klar oder nur locker bewölkt', 'am samstag ziehen dann von westen wieder neue wolken heran die im süden und osten teilweise kräftige schauer bringen', 'und das wird auch nochmal die temperaturen bestimmen sie werden dann von minus fünf grad bis plus vier grad schwanken', 'und das ist ja schon ein bisschen kritisch', 'und die temperaturen steigen dann auch noch weiter bis zu den höchsttemperaturen von sieben grad am rhein und bis zu zwölf grad an der ostsee', 'und morgen früh wird es dann auch im westen schon wieder ein bisschen wärmer als heute mit fünf bis zehn grad', 'und es wird auch noch ein bisschen wärmer am samstag und am sonntag', 'und das wird auch nochmal die temperaturen bestimmen sie werden dann von minus fünf grad bis plus vier grad schwanken', 'das tief über der nordsee lenkt von westen kühle luft nach deutschland', 'heute nacht ist es meist stark bewölkt oder neblig trüb hier und da fällt etwas regen im süden sowie an den küsten bildet sich nebel', 'im süden und osten bleibt es meist trocken', 'heute nacht ist es meist stark bewölkt oder neblig trüb hier und da fällt etwas regen im süden sowie an den küsten bildet sich stellenweise nebel', 'am tag fünf grad im vogtland und dreizehn grad am oberrhein', 'und das ist auch noch nicht alles es kommt noch mehr regen dazu', 'und die temperaturen steigen langsam an bis zu sieben grad am samstag im südwesten', 'im süden und südwesten fällt heute nacht gebietsweise noch etwas schnee oder gefrierender regen', 'im süden und südwesten fällt heute nacht gebietsweise noch etwas schnee oder gefrierender regen sonst ist es meist trocken teilweise auch klar', 'das tief das sich von polen bis ins südliche mitteleuropa erstreckt bringt uns morgen vor allem dem westen deutschlands noch wolken und etwas regen', 'im süden und südosten bleibt es noch trocken und teilweise freundlich', 'im norden und nordosten ist es heute nacht meist stark bewölkt oder neblig trüb', 'im süden und südwesten fällt heute nacht gebietsweise noch etwas schnee oder gefrierender regen sonst ist es meist trocken örtlich bildet sich nebel oder hochnebel', 'es gelten entsprechende unwetterwarnungen des deutschen wetterdienstes', 'dabei bleibt es kühler als heute', 'und das ist ja schon ein bisschen kühler als heute', 'und die temperaturen sinken auf den gefrierpunkt im nordosten deutschlands bis minus vier grad', 'im süden und südosten lockert es heute nacht verbreitet auf stellenweise bildet sich nebel', 'im süden und südwesten fällt heute nacht gebietsweise etwas schnee oder gefrierender regen sonst teils wolkig teils klar', 'im süden und südwesten ist es meist freundlich mit sonne und wolken', 'und die temperaturen steigen langsam an bis zu sieben grad am samstag im westen und auch im süden', 'am samstag ziehen dann von westen wieder neue wolken heran die im süden und osten teilweise kräftige schauer bringen', 'im süden und südosten fällt heute nacht gebietsweise etwas schnee oder gefrierender regen sonst teils wolkig teils klar und meist trocken', 'heute nacht temperaturen zwischen sieben und ein grad am tag dann werte zwischen fünfzehn und zwanzig grad im süden bis zu siebenundzwanzig grad', 'und morgen früh wird es dann auch im westen schon wieder ein bisschen wärmer als heute mit fünf bis zehn grad', 'und es wird auch noch ein bisschen kühler das ist sicher', 'im süden und südwesten schwacher bis mäßiger wind sonst weht er meist nur schwach', 'heute nacht temperaturen zwischen sieben und ein grad an den alpen bis minus fünf grad', 'und die temperaturen sinken auf den gefrierpunkt im nordosten und auch im südwesten da bleibt es dann auch noch überall frostig bis minus fünf grad', 'und die temperaturen sinken auf den gefrierpunkt im nordosten und auch im südwesten deutschlands', 'und die temperaturen sinken auf den gefrierpunkt im nordosten und auch im südwesten da bleibt es dann auch noch überwiegend frostfrei', 'im süden und südosten bleibt es noch trocken und teilweise freundlich', 'im süden und südwesten ist es heute nacht meist stark bewölkt oder neblig trüb', 'im süden und osten bleibt es meist trocken', 'heute nacht ist es meist stark bewölkt oder neblig trüb hier und da fällt etwas regen im süden auch noch schnee oder gefrierender regen sonst bleibt es verbreitet trocken', 'heute nacht temperaturen zwischen sieben und ein grad an den alpen bis minus zwei grad', 'und nun die wettervorhersage für morgen samstag den siebenundzwanzigsten mai', 'der wind weht schwach bis mäßig an der nordsee auch frisch', 'der wind weht schwach bis mäßig an der nordsee auch frisch', 'und die temperaturen steigen langsam wieder an', 'am samstag ziehen über die nordhälfte wieder viele wolken teilweise ist es auch noch wolkig sonst zeigt sich neben einigen nebelfeldern auch mal die sonne', 'und nun die wettervorhersage für morgen samstag den siebenundzwanzigsten mai', 'am samstag ziehen von westen wieder neue wolken heran die im süden und osten teilweise kräftige schauer bringen', 'im süden und südwesten deutschlands sorgt ein hoch über der mitte europas für freundliches wetter während sich von westen kräftiger regen ausbreitet', 'im süden und südwesten fällt heute nacht gebietsweise etwas schnee oder gefrierender regen', 'heute nacht temperaturen zwischen sechs und ein grad in alpennähe bis minus zwei grad', 'heute nacht temperaturen zwischen sechs und ein grad am tag dann werte zwischen minus fünf und plus vier grad', 'am samstag ziehen dann von westen wieder neue schnee heran die temperaturen sinken auf werte um den gefrierpunkt', 'und nun die wettervorhersage für morgen samstag den dreißigsten august', 'das tief das sich von polen bis ins südliche mitteleuropa erstreckt bringt uns morgen viel sonnenschein und hochsommerliche temperaturen', 'am samstag ziehen überall dichtere wolken heran gebietsweise regnet es etwas', 'ihnen noch einen schönen abend und machen sie es gut', 'und das ist auch gut so es wird ja noch heißer werden die sonne kommt auf jeden fall bis zum wochenende wieder überall scheint sie', 'im süden und osten bleibt es noch trocken', 'heute nacht ist es meist stark bewölkt oder neblig trüb hier und da fällt etwas regen am häufigsten zeigt sich die sonne im nordwesten und westen sowie über den bergen', 'und morgen früh wird es dann auch im westen schon wieder ein bisschen wärmer sein als heute', 'und die temperaturen steigen dann auch noch weiter bis zu den höchsttemperaturen von sieben grad am samstag morgen früh', 'und die nächsten tage werden auch noch sehr kühl sein', 'das tief das sich von polen bis ins südliche mitteleuropa erstreckt bringt uns morgen viele wolken und etwas regen', 'und das wird auch nochmal die temperaturen bestimmen sie werden dann von minus fünf grad bis plus vier grad schwanken', 'und die temperaturen sinken auf den gefrierpunkt im nordosten deutschlands', 'das tief das von polen nach südskandinavien zieht bringt uns morgen viele wolken und etwas regen', 'und nun die wettervorhersage für morgen samstag den siebenundzwanzigsten mai', 'und nun die wettervorhersage für morgen samstag den siebenundzwanzigsten januar', 'das tief das sich von polen bis ins südliche mitteleuropa erstreckt bringt uns morgen viele wolken und etwas regen', 'heute nacht ist es meist stark bewölkt oder neblig trüb hier und da fällt etwas regen im norden auch schnee', 'heute nacht ist es meist stark bewölkt oder neblig trüb hier und da fällt etwas regen im norden auch schnee oder gefrierender regen', 'und die temperaturen sinken auf den gefrierpunkt im nordosten und auch im südwesten da bleibt es dann auch noch überall frostig bis minus fünf grad', 'das tief das sich von polen bis ins südliche mitteleuropa erstreckt bringt uns morgen viel sonnenschein', 'im süden und osten bleibt es meist trocken', 'am samstag ziehen dann von westen wieder neue wolken heran die teilweise kräftige schneefälle bringen', 'und nun die wettervorhersage für morgen samstag den siebenundzwanzigsten mai', 'heute nacht sieben grad an der ostsee und minus ein grad im südwesten', 'und nun die wettervorhersage für morgen samstag den dreißigsten august', 'im süden und osten bleibt es noch freundlich', 'im süden und osten bleibt es noch freundlich', 'im süden ist es meist freundlich', 'der wind weht schwach bis mäßig an der nordsee auch frisch aus südwest bis west', 'im süden und osten bleibt es trocken', 'heute nacht sieben grad an der ostsee und minus ein grad im südwesten', 'das tief das sich von polen bis ins südliche mitteleuropa erstreckt bringt morgen vor allem dem nordosten deutschlands noch regen oder schneefälle', 'im süden und osten bleibt es noch trocken und teilweise freundlich', 'das tief das sich von polen bis ins südliche mitteleuropa erstreckt bringt uns morgen viele wolken und etwas regen', 'im süden und südwesten fällt heute nacht gebietsweise noch etwas schnee oder gefrierender regen sonst ist es meist trocken', 'am samstag ziehen dann von westen wieder neue wolken heran die teilweise kräftige schneefälle bringen', 'im süden und südosten bleibt es meist trocken und teilweise auch freundlich', 'und morgen früh wird es dann auch im westen schon wieder ein bisschen wärmer als heute mit fünf bis zehn grad', 'das tief über der nordsee lenkt von westen kühle luft nach deutschland', 'heute nacht temperaturen zwischen sieben und ein grad am tag dann werte zwischen fünfzehn und zwanzig grad', 'und nun die wettervorhersage für morgen samstag den siebenundzwanzigsten mai', 'am samstag wechselhaftes wetter mit sonne wolken und schauern', 'und die temperaturen sinken auf den gefrierpunkt im westen und im süden da wird es auch nochmal richtig kalt bis minus fünf grad', 'und die temperaturen sinken auf den gefrierpunkt im nordosten und auch im südwesten da bleibt es dann auch meist frostfrei während es in der mitte teilweise kräftig schneit', 'im süden und südwesten fällt heute nacht gebietsweise noch etwas schnee oder gefrierender regen sonst ist es meist trocken', 'im norden und nordosten bleibt es meist trocken und teilweise auch freundlich', 'im süden und osten bleibt es meist trocken', 'im süden und südwesten fällt heute nacht gebietsweise noch etwas schnee oder gefrierender regen', 'heute nacht ist es meist stark bewölkt oder neblig trüb hier und da fällt etwas regen im norden auch schnee oder gefrierender regen', 'ihnen noch einen schönen abend und machen sie es gut', 'im süden und südwesten fällt heute nacht gebietsweise etwas schnee oder gefrierender regen sonst teils wolkig oder neblig teils klar', 'im süden und südwesten fällt heute nacht gebietsweise etwas schnee oder gefrierender regen', 'das hoch über skandinavien sorgt morgen für viel sonnenschein', 'am samstag ziehen überall dichtere wolken heran gebietsweise regnet es etwas im süden und osten ist es auch freundlich', 'und morgen früh wird es dann auch im westen schon wieder ein bisschen wärmer als heute mit fünf bis zehn grad', 'und nun die wettervorhersage für morgen samstag den siebenundzwanzigsten mai', 'das tief über der nordsee zieht weiter nach osten und bringt morgen vor allem dem norden deutschlands noch regen', 'und die nächsten tage werden auch noch sehr kritisch sein mit starken bis stürmischen böen und vor allen dingen im norden und westen deutschlands', 'heute nacht temperaturen zwischen sieben und ein grad an den alpen bis minus fünf grad', 'am samstag wird es dann deutlich milder', 'und nun die wettervorhersage für morgen samstag den siebenundzwanzigsten mai', 'der wind weht schwach bis mäßig an der nordsee auch frisch', 'und nun die wettervorhersage für morgen samstag den dreißigsten mai', 'es sorgt für viel sonnenschein und steigende temperaturen', 'dabei fließt weiterhin kühle luft heran', 'heute nacht temperaturen zwischen sechs und ein grad in alpennähe bis minus zwei grad', 'liebe zuschauer guten abend', 'und das wird auch nochmal die temperaturen bestimmen sie werden dann von minus fünf grad bis plus vier grad reichen', 'im süden und südosten fällt heute nacht gebietsweise noch etwas schnee sonst teils wolkig oder neblig teils klar', 'am samstag ziehen dann von westen wieder neue wolken heran die im südwesten und westen teilweise kräftige schauer bringen', 'der wind weht schwach bis mäßig an der nordsee auch frisch', 'dabei bleibt es trocken', 'und die temperaturen steigen dann auch noch weiter auf bis zu sieben grad am samstag im westen und in der mitte deutschlands', 'und morgen früh wird es dann auch im westen schon wieder ein richtiges sonniges tief sein', 'das tief das sich von polen bis ins südliche mitteleuropa erstreckt bringt uns morgen vor allem dem westen deutschlands noch wolken und etwas regen', 'der wind weht schwach bis mäßig an der nordsee auch frisch bei schauern und gewittern sind sturmböen möglich', 'am tag fünf grad im vogtland und dreizehn grad am oberrhein', 'am samstag ziehen dann von westen wieder neue wolken heran die teilweise kräftig regnen', 'und es wird auch noch ein bisschen wärmer bis zum samstag', 'heute nacht ist es meist stark bewölkt oder neblig trüb hier und da fällt etwas regen im süden auch noch schnee oder gefrierender regen an den alpen kann auch glätte sein', 'heute nacht temperaturen zwischen sechs und ein grad in alpennähe bis minus zwei grad', 'und das wird auch nochmal die temperaturen bestimmen die dann langsam wieder steigen', 'und das wird auch nochmal die temperaturen bestimmen die dann langsam wieder ansteigen', 'und die temperaturen sinken auf den gefrierpunkt im nordosten und auch im südwesten da bleibt es dann auch noch überwiegend frostfrei', 'der wind weht schwach bis mäßig an der nordsee auch frisch bei schauern und gewittern sind sturmböen möglich', 'und nun die wettervorhersage für morgen samstag den siebenundzwanzigsten mai', 'im süden und südosten ist es heute nacht meist stark bewölkt oder neblig trüb', 'der wind weht schwach bis mäßig an der nordsee auch frisch bei schauern und gewittern sind sturmböen möglich', 'am tag fünf grad im vogtland und dreizehn grad am oberrhein', 'und nun die wettervorhersage für morgen samstag den dreißigsten mai', 'das tief über der nordsee zieht weiter nach osten und macht sich morgen abend im norden deutschlands bemerkbar', 'am samstag wechselhaftes wetter', 'der wind weht schwach bis mäßig an der nordsee auch frisch bei schauern und gewittern sind sturmböen möglich', 'heute nacht temperaturen zwischen sechs und ein grad am tag dann werte zwischen minus fünf und minus zwölf grad']\n"
     ]
    }
   ],
   "source": [
    "final_dev_outputs = [decoded_output.split(\"\\nassistant\\n\")[1].strip() for decoded_output in final_dev_outputs]\n",
    "print(final_dev_outputs)\n",
    "\n",
    "\n",
    "\n",
    "\n",
    "\n"
   ]
  },
  {
   "cell_type": "code",
   "execution_count": 25,
   "metadata": {},
   "outputs": [],
   "source": [
    "for (output, reference) in zip(final_dev_outputs, references):\n",
    "    # save it in a file\n",
    "    with open(\"output.json\", \"a\") as f:\n",
    "        f.write(output + \"\\n\")\n",
    "    with open(\"reference.json\", \"a\") as f:\n",
    "        f.write(reference + \"\\n\")\n",
    "\n",
    "\n"
   ]
  },
  {
   "cell_type": "code",
   "execution_count": 23,
   "metadata": {},
   "outputs": [
    {
     "name": "stdout",
     "output_type": "stream",
     "text": [
      "BLEU = 6.21 22.4/6.7/3.7/2.7 (BP = 1.000 ratio = 1.095 hyp_len = 7465 ref_len = 6820)\n"
     ]
    }
   ],
   "source": [
    "from sacrebleu import corpus_bleu\n",
    "bleu_score = corpus_bleu(final_dev_outputs, [references])\n",
    "print (bleu_score)\n"
   ]
  },
  {
   "cell_type": "code",
   "execution_count": null,
   "metadata": {},
   "outputs": [],
   "source": []
  }
 ],
 "metadata": {
  "kernelspec": {
   "display_name": "Python 3",
   "language": "python",
   "name": "python3"
  },
  "language_info": {
   "codemirror_mode": {
    "name": "ipython",
    "version": 3
   },
   "file_extension": ".py",
   "mimetype": "text/x-python",
   "name": "python",
   "nbconvert_exporter": "python",
   "pygments_lexer": "ipython3",
   "version": "3.11.6"
  }
 },
 "nbformat": 4,
 "nbformat_minor": 2
}
